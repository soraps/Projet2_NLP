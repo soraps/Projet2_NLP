{
 "cells": [
  {
   "cell_type": "markdown",
   "metadata": {},
   "source": [
    "# NLP PROJET 2\n",
    "\n",
    "## Project: Data Exploration and NLP Modeling\n",
    "### Deadline: January 22, 2024\n",
    "Scraping and data exploration\n",
    "\n",
    "In this second project, you will be tasked with preparing a database by collecting information from various sources, such as customer review sites, articles on cybersecurity, etc.\n",
    "We can scrap these websites\n",
    "\n",
    "https://fr.trustpilot.com/\n",
    "\n",
    "yelp (with api)\n",
    "\n",
    "https://www.opinion-assurances.fr/\n",
    "\n",
    "you also can find a website (please validate with your teacher)\n",
    "\n",
    "You can also use this dataset : https://drive.google.com/file/d/1_kg5JzAzntzLI6eGM3_vmUSoeWk7f8ip/view?usp=sharing\n",
    "\n",
    "\n",
    "You will then undertake an initial exploration of the data, including data cleaning, visualization, and the production of initial conclusions. This step is crucial to establish a solid foundation for subsequent projects.\n",
    "\n",
    "\n",
    "### Supervised learning\n",
    "\n",
    "In the second phase, supervised learning and unsupervised learning will be utilized. You will need to create a supervised text processing model using NLP techniques. In addition to modeling, you will need to develop an interactive application where users can submit text in the chosen theme and receive a prediction, along with explanations for that prediction. This will allow you to apply your NLP skills in a practical manner.\n",
    "\n",
    "- Examples of supervised tasks\n",
    "- Sentiment analysis\n",
    "- Number of stars\n",
    "- Categories/subjects\n",
    "- for insurance reviews for examples, claims, subscriptions, etc.\n",
    "- for restaurants, type of dish, service vs. food\n",
    "- Streamlit applications\n",
    "- For one review, give detailed information (food, service, etc.) cf Amazon review\n",
    "- For one restaurant, a summary about this restaurant, more detailed criteria\n",
    "- For restaurants, QA system : “I want very good and expensive sushi”, “restaurant rapide et bon”\n",
    "\n",
    "### Scoring\n",
    "\n",
    "- Web scraping : 2 points\n",
    "- Data Cleaning: 2 points (negative points if not well-executed)\n",
    "    - Highlighting frequent words (and n-grams)\n",
    "    - Spelling correction: 2 points\n",
    "- Summary, Translation, and Generation: 2 points\n",
    "    - Produce a clean file with multiple cleaned columns and corrected/translated texts\n",
    "- Sentiment Analysis (multiclass, or binary classification): 2 points (possible negative points)\n",
    "- Topic Modeling and Lists of Topics: 2 points\n",
    "- Embedding to Identify Similar Words and Enrich Theme List: 2 points (possible negative points)\n",
    "    - Word2Vec Training: 2 points, GloVe: 1 points\n",
    "    - Visualization of embeddings with Matplotlib and Tensorboard: 2 points\n",
    "    - Implementation of Euclidean or cosine distance: 1 point\n",
    "    - Question answering with semantic search : bonus 2 points\n",
    "- Supervised Learning, each model well-made and well-presented: 2 points (possible negative points)\n",
    "    - TF-IDF and classical ML\n",
    "    - Basic model with an embedding layer (embedding visualization with Tensorboard: additional 1 point)\n",
    "    - Model with pre-trained embeddings (embedding visualization with Tensorboard: additional 1 point)\n",
    "    - USE (Universal Sentence Embedding) or equivalents, RNN LSTM, CNN, BERT, or other models on Hugging Face\n",
    "    - ChatGPT\n",
    "- Results Interpretation (possible negative points)\n",
    "    - Error analysis: 1 point\n",
    "    - Sentiment detection: 2 points\n",
    "    - Classical models with themes: 2 points\n",
    "    - Deep learning models for words: 2 points\n",
    "- Creation of Streamlit applications\n",
    "    - Prediction (2 points)\n",
    "    - Summary (2 points)\n",
    "    - Explanation (3 points)\n",
    "    - Information Retrieval  (3 points)\n",
    "    - RAG (3 points)\n",
    "    - QA (3 points)\n",
    "- Clarity of Presentation: 2 points (possible negative points)\n",
    "\n",
    "You can use this template : \n",
    "https://docs.google.com/presentation/d/1hyaVKY31U0wP4kensljOgIiudkRC5N1OxZMWqZ07Y5Q/edit?usp=sharing\n",
    "\n",
    "Template en français\n",
    "https://docs.google.com/presentation/d/1LGq58zA_5Usmqkz043iHYe3VqDrbQOARXUl_QWD_W3Y/edit?usp=sharing\n",
    "\n",
    "\n",
    "\n"
   ]
  },
  {
   "cell_type": "code",
   "execution_count": 1,
   "metadata": {},
   "outputs": [],
   "source": [
    "import pandas as pd\n",
    "\n",
    "reviews_df=pd.read_csv('reviews.csv', sep=';')"
   ]
  },
  {
   "cell_type": "code",
   "execution_count": 2,
   "metadata": {},
   "outputs": [
    {
     "data": {
      "text/html": [
       "<div>\n",
       "<style scoped>\n",
       "    .dataframe tbody tr th:only-of-type {\n",
       "        vertical-align: middle;\n",
       "    }\n",
       "\n",
       "    .dataframe tbody tr th {\n",
       "        vertical-align: top;\n",
       "    }\n",
       "\n",
       "    .dataframe thead th {\n",
       "        text-align: right;\n",
       "    }\n",
       "</style>\n",
       "<table border=\"1\" class=\"dataframe\">\n",
       "  <thead>\n",
       "    <tr style=\"text-align: right;\">\n",
       "      <th></th>\n",
       "      <th>business_id</th>\n",
       "      <th>review_id</th>\n",
       "      <th>text</th>\n",
       "      <th>rating</th>\n",
       "      <th>corrected_text</th>\n",
       "      <th>translated_text</th>\n",
       "    </tr>\n",
       "  </thead>\n",
       "  <tbody>\n",
       "    <tr>\n",
       "      <th>0</th>\n",
       "      <td>-0iLH7iQNYtoURciDpJf6w</td>\n",
       "      <td>tsubL1mtNvOD1MBSj2ls0Q</td>\n",
       "      <td>Perfect diary share the food of this family to...</td>\n",
       "      <td>5</td>\n",
       "      <td>Perfect diary share the food of this family to...</td>\n",
       "      <td>Perfect diary share the food of this family to...</td>\n",
       "    </tr>\n",
       "    <tr>\n",
       "      <th>1</th>\n",
       "      <td>-0iLH7iQNYtoURciDpJf6w</td>\n",
       "      <td>sxEFkJ89kyF-wMDUI2ZnWw</td>\n",
       "      <td>Based on the menu presented one could write a ...</td>\n",
       "      <td>5</td>\n",
       "      <td>Based on the menu presented, one could write a...</td>\n",
       "      <td>Based on the menu presented one could write a ...</td>\n",
       "    </tr>\n",
       "    <tr>\n",
       "      <th>2</th>\n",
       "      <td>-0iLH7iQNYtoURciDpJf6w</td>\n",
       "      <td>3MYKaD-tDrUVhRgDh9G4dA</td>\n",
       "      <td>If you love French OnIon Soup this is for you ...</td>\n",
       "      <td>5</td>\n",
       "      <td>If you love French OnIon Soup, this is for you...</td>\n",
       "      <td>If you love French OnIon Soup this is for you ...</td>\n",
       "    </tr>\n",
       "    <tr>\n",
       "      <th>3</th>\n",
       "      <td>IU9_wVOGBKjfqTTpAXpKcQ</td>\n",
       "      <td>PJuWhEzKFz3ipwhOcWMMBA</td>\n",
       "      <td>Came here with my daughter son inlaw  his mom ...</td>\n",
       "      <td>5</td>\n",
       "      <td>Came here with my daughter, son in law, and mo...</td>\n",
       "      <td>Came here with my daughter son inlaw  his mom ...</td>\n",
       "    </tr>\n",
       "    <tr>\n",
       "      <th>4</th>\n",
       "      <td>IU9_wVOGBKjfqTTpAXpKcQ</td>\n",
       "      <td>sMcLY9Gpg9ToKqce2MiccQ</td>\n",
       "      <td>Just a few steps from our hotel we had wanted ...</td>\n",
       "      <td>4</td>\n",
       "      <td>Just a few steps from our hotel, we had wanted...</td>\n",
       "      <td>Just a few steps from our hotel we had wanted ...</td>\n",
       "    </tr>\n",
       "  </tbody>\n",
       "</table>\n",
       "</div>"
      ],
      "text/plain": [
       "              business_id               review_id  \\\n",
       "0  -0iLH7iQNYtoURciDpJf6w  tsubL1mtNvOD1MBSj2ls0Q   \n",
       "1  -0iLH7iQNYtoURciDpJf6w  sxEFkJ89kyF-wMDUI2ZnWw   \n",
       "2  -0iLH7iQNYtoURciDpJf6w  3MYKaD-tDrUVhRgDh9G4dA   \n",
       "3  IU9_wVOGBKjfqTTpAXpKcQ  PJuWhEzKFz3ipwhOcWMMBA   \n",
       "4  IU9_wVOGBKjfqTTpAXpKcQ  sMcLY9Gpg9ToKqce2MiccQ   \n",
       "\n",
       "                                                text  rating  \\\n",
       "0  Perfect diary share the food of this family to...       5   \n",
       "1  Based on the menu presented one could write a ...       5   \n",
       "2  If you love French OnIon Soup this is for you ...       5   \n",
       "3  Came here with my daughter son inlaw  his mom ...       5   \n",
       "4  Just a few steps from our hotel we had wanted ...       4   \n",
       "\n",
       "                                      corrected_text  \\\n",
       "0  Perfect diary share the food of this family to...   \n",
       "1  Based on the menu presented, one could write a...   \n",
       "2  If you love French OnIon Soup, this is for you...   \n",
       "3  Came here with my daughter, son in law, and mo...   \n",
       "4  Just a few steps from our hotel, we had wanted...   \n",
       "\n",
       "                                     translated_text  \n",
       "0  Perfect diary share the food of this family to...  \n",
       "1  Based on the menu presented one could write a ...  \n",
       "2  If you love French OnIon Soup this is for you ...  \n",
       "3  Came here with my daughter son inlaw  his mom ...  \n",
       "4  Just a few steps from our hotel we had wanted ...  "
      ]
     },
     "execution_count": 2,
     "metadata": {},
     "output_type": "execute_result"
    }
   ],
   "source": [
    "reviews_df.head()"
   ]
  },
  {
   "cell_type": "code",
   "execution_count": 4,
   "metadata": {},
   "outputs": [
    {
     "data": {
      "text/plain": [
       "(1234, 6)"
      ]
     },
     "execution_count": 4,
     "metadata": {},
     "output_type": "execute_result"
    }
   ],
   "source": [
    "reviews_df.groupby('rating').count()\n",
    "reviews_df.shape"
   ]
  },
  {
   "cell_type": "code",
   "execution_count": 39,
   "metadata": {},
   "outputs": [
    {
     "name": "stdout",
     "output_type": "stream",
     "text": [
      "                                     translated_text sentiment\n",
      "0  Perfect diary share the food of this family to...  positive\n",
      "1  Based on the menu presented one could write a ...  positive\n",
      "2  If you love French OnIon Soup this is for you ...  positive\n",
      "3  Came here with my daughter son inlaw  his mom ...  positive\n",
      "4  Just a few steps from our hotel we had wanted ...  negative\n"
     ]
    }
   ],
   "source": [
    "from transformers import AutoTokenizer, AutoModelForSequenceClassification, pipeline\n",
    "\n",
    "# Charger le tokenizer et le modèle\n",
    "tokenizer = AutoTokenizer.from_pretrained(\"lxyuan/distilbert-base-multilingual-cased-sentiments-student\")\n",
    "model = AutoModelForSequenceClassification.from_pretrained(\"lxyuan/distilbert-base-multilingual-cased-sentiments-student\")\n",
    "\n",
    "# Créer une pipeline d'analyse de sentiment\n",
    "sentiment_analysis = pipeline(\"sentiment-analysis\", model=model, tokenizer=tokenizer)\n",
    "\n",
    "def analyze_sentiment(text):\n",
    "    # Effectuer l'analyse de sentiment\n",
    "    result = sentiment_analysis(text)\n",
    "\n",
    "    # Récupérer le label (POSITIF ou NEGATIF) et le transformer en positif/négatif/neutre\n",
    "    label = result[0]['label']\n",
    "    return label\n",
    "\n",
    "# Appliquer l'analyse de sentiment à chaque avis\n",
    "reviews_df['sentiment'] = reviews_df['translated_text'].apply(analyze_sentiment)\n",
    "\n",
    "# Afficher les résultats\n",
    "print(reviews_df[['translated_text', 'sentiment']].head())\n",
    "\n"
   ]
  },
  {
   "cell_type": "code",
   "execution_count": 40,
   "metadata": {},
   "outputs": [
    {
     "data": {
      "image/png": "[encoded data removed]",
      "text/plain": [
       "<Figure size 1000x600 with 1 Axes>"
      ]
     },
     "metadata": {},
     "output_type": "display_data"
    }
   ],
   "source": [
    "import matplotlib.pyplot as plt\n",
    "import seaborn as sns\n",
    "\n",
    "# Création d'un graphique pour visualiser les notes par rapport aux sentiments\n",
    "plt.figure(figsize=(10, 6))\n",
    "\n",
    "# Utiliser Seaborn pour créer un diagramme en barres\n",
    "sns.boxplot(x='sentiment', y='rating', data=reviews_df)\n",
    "\n",
    "# Personnaliser le graphique\n",
    "plt.title('Moyenne des notes par sentiment')\n",
    "plt.xlabel('Sentiment')\n",
    "plt.ylabel('Note moyenne')\n",
    "\n",
    "# Afficher le graphique\n",
    "plt.show()\n"
   ]
  },
  {
   "cell_type": "code",
   "execution_count": 41,
   "metadata": {},
   "outputs": [
    {
     "name": "stderr",
     "output_type": "stream",
     "text": [
      "[nltk_data] Downloading package punkt to\n",
      "[nltk_data]     C:\\Users\\sraps\\AppData\\Roaming\\nltk_data...\n",
      "[nltk_data]   Package punkt is already up-to-date!\n",
      "[nltk_data] Downloading package stopwords to\n",
      "[nltk_data]     C:\\Users\\sraps\\AppData\\Roaming\\nltk_data...\n",
      "[nltk_data]   Package stopwords is already up-to-date!\n"
     ]
    }
   ],
   "source": [
    "import gensim\n",
    "from gensim import corpora\n",
    "from nltk.stem import WordNetLemmatizer\n",
    "from nltk.tokenize import word_tokenize\n",
    "from nltk.corpus import stopwords\n",
    "import nltk\n",
    "nltk.download('punkt')\n",
    "nltk.download('stopwords')\n",
    "lemmatizer = WordNetLemmatizer()\n",
    "\n",
    "# Prétraitement du texte\n",
    "stop_words = set(stopwords.words('english'))\n",
    "def preprocess_text(text):\n",
    "    tokens = word_tokenize(text.lower())\n",
    "    tokens = [word for word in tokens if word not in stop_words and word.isalpha()]\n",
    "    tokens = [lemmatizer.lemmatize(word) for word in tokens]\n",
    "\n",
    "    return tokens\n",
    "\n",
    "# Appliquer le prétraitement à chaque critique\n",
    "processed_docs = reviews_df['translated_text'].map(preprocess_text)\n"
   ]
  },
  {
   "cell_type": "code",
   "execution_count": 42,
   "metadata": {},
   "outputs": [
    {
     "name": "stdout",
     "output_type": "stream",
     "text": [
      "Alpha: 0.01, Beta: 0.01, Coherence: 0.20598268312867712\n",
      "Alpha: 0.01, Beta: 0.1, Coherence: 0.22736272139746855\n",
      "Alpha: 0.01, Beta: 0.03, Coherence: 0.22289455886112966\n",
      "Alpha: 0.01, Beta: 0.5, Coherence: 0.2088303305925308\n",
      "Alpha: 0.01, Beta: 0.7, Coherence: 0.2459042997749596\n",
      "Alpha: 0.01, Beta: 1, Coherence: 0.22715336734893918\n",
      "Alpha: 0.1, Beta: 0.01, Coherence: 0.22699129505542084\n",
      "Alpha: 0.1, Beta: 0.1, Coherence: 0.21818027760742892\n",
      "Alpha: 0.1, Beta: 0.03, Coherence: 0.2108920080635275\n",
      "Alpha: 0.1, Beta: 0.5, Coherence: 0.2003316782996099\n",
      "Alpha: 0.1, Beta: 0.7, Coherence: 0.2288543152450509\n",
      "Alpha: 0.1, Beta: 1, Coherence: 0.22510351236334952\n",
      "Alpha: 0.3, Beta: 0.01, Coherence: 0.22525973885850914\n",
      "Alpha: 0.3, Beta: 0.1, Coherence: 0.20069011565827527\n",
      "Alpha: 0.3, Beta: 0.03, Coherence: 0.2266094767627046\n",
      "Alpha: 0.3, Beta: 0.5, Coherence: 0.208316351474737\n",
      "Alpha: 0.3, Beta: 0.7, Coherence: 0.20238821584299663\n",
      "Alpha: 0.3, Beta: 1, Coherence: 0.21909481195612412\n",
      "Alpha: 0.5, Beta: 0.01, Coherence: 0.23254335108583202\n",
      "Alpha: 0.5, Beta: 0.1, Coherence: 0.22823176204095794\n"
     ]
    },
    {
     "ename": "KeyboardInterrupt",
     "evalue": "",
     "output_type": "error",
     "traceback": [
      "\u001b[1;31m---------------------------------------------------------------------------\u001b[0m",
      "\u001b[1;31mKeyboardInterrupt\u001b[0m                         Traceback (most recent call last)",
      "Cell \u001b[1;32mIn[42], line 9\u001b[0m\n\u001b[0;32m      7\u001b[0m \u001b[38;5;28;01mfor\u001b[39;00m alpha \u001b[38;5;129;01min\u001b[39;00m [\u001b[38;5;241m0.01\u001b[39m, \u001b[38;5;241m0.1\u001b[39m,\u001b[38;5;241m0.3\u001b[39m, \u001b[38;5;241m0.5\u001b[39m,\u001b[38;5;241m0.7\u001b[39m, \u001b[38;5;241m1\u001b[39m]:\n\u001b[0;32m      8\u001b[0m     \u001b[38;5;28;01mfor\u001b[39;00m beta \u001b[38;5;129;01min\u001b[39;00m [\u001b[38;5;241m0.01\u001b[39m, \u001b[38;5;241m0.1\u001b[39m,\u001b[38;5;241m0.03\u001b[39m, \u001b[38;5;241m0.5\u001b[39m, \u001b[38;5;241m0.7\u001b[39m,\u001b[38;5;241m1\u001b[39m]:\n\u001b[1;32m----> 9\u001b[0m         lda_model \u001b[38;5;241m=\u001b[39m \u001b[43mgensim\u001b[49m\u001b[38;5;241;43m.\u001b[39;49m\u001b[43mmodels\u001b[49m\u001b[38;5;241;43m.\u001b[39;49m\u001b[43mLdaMulticore\u001b[49m\u001b[43m(\u001b[49m\u001b[43mcorpus\u001b[49m\u001b[43m,\u001b[49m\u001b[43m \u001b[49m\u001b[43mnum_topics\u001b[49m\u001b[38;5;241;43m=\u001b[39;49m\u001b[38;5;241;43m4\u001b[39;49m\u001b[43m,\u001b[49m\u001b[43m \u001b[49m\u001b[43mid2word\u001b[49m\u001b[38;5;241;43m=\u001b[39;49m\u001b[43mdictionary\u001b[49m\u001b[43m,\u001b[49m\u001b[43m \u001b[49m\u001b[43mpasses\u001b[49m\u001b[38;5;241;43m=\u001b[39;49m\u001b[38;5;241;43m7\u001b[39;49m\u001b[43m,\u001b[49m\u001b[43m \u001b[49m\u001b[43malpha\u001b[49m\u001b[38;5;241;43m=\u001b[39;49m\u001b[43malpha\u001b[49m\u001b[43m,\u001b[49m\u001b[43m \u001b[49m\u001b[43meta\u001b[49m\u001b[38;5;241;43m=\u001b[39;49m\u001b[43mbeta\u001b[49m\u001b[43m)\u001b[49m\n\u001b[0;32m     10\u001b[0m         coherence_model_lda \u001b[38;5;241m=\u001b[39m CoherenceModel(model\u001b[38;5;241m=\u001b[39mlda_model, texts\u001b[38;5;241m=\u001b[39mprocessed_docs, dictionary\u001b[38;5;241m=\u001b[39mdictionary, coherence\u001b[38;5;241m=\u001b[39m\u001b[38;5;124m'\u001b[39m\u001b[38;5;124mc_v\u001b[39m\u001b[38;5;124m'\u001b[39m)\n\u001b[0;32m     11\u001b[0m         coherence_lda \u001b[38;5;241m=\u001b[39m coherence_model_lda\u001b[38;5;241m.\u001b[39mget_coherence()\n",
      "File \u001b[1;32mc:\\Users\\sraps\\AppData\\Local\\Programs\\Python\\Python311\\Lib\\site-packages\\gensim\\models\\ldamulticore.py:186\u001b[0m, in \u001b[0;36mLdaMulticore.__init__\u001b[1;34m(self, corpus, num_topics, id2word, workers, chunksize, passes, batch, alpha, eta, decay, offset, eval_every, iterations, gamma_threshold, random_state, minimum_probability, minimum_phi_value, per_word_topics, dtype)\u001b[0m\n\u001b[0;32m    183\u001b[0m \u001b[38;5;28;01mif\u001b[39;00m \u001b[38;5;28misinstance\u001b[39m(alpha, \u001b[38;5;28mstr\u001b[39m) \u001b[38;5;129;01mand\u001b[39;00m alpha \u001b[38;5;241m==\u001b[39m \u001b[38;5;124m'\u001b[39m\u001b[38;5;124mauto\u001b[39m\u001b[38;5;124m'\u001b[39m:\n\u001b[0;32m    184\u001b[0m     \u001b[38;5;28;01mraise\u001b[39;00m \u001b[38;5;167;01mNotImplementedError\u001b[39;00m(\u001b[38;5;124m\"\u001b[39m\u001b[38;5;124mauto-tuning alpha not implemented in LdaMulticore; use plain LdaModel.\u001b[39m\u001b[38;5;124m\"\u001b[39m)\n\u001b[1;32m--> 186\u001b[0m \u001b[38;5;28;43msuper\u001b[39;49m\u001b[43m(\u001b[49m\u001b[43mLdaMulticore\u001b[49m\u001b[43m,\u001b[49m\u001b[43m \u001b[49m\u001b[38;5;28;43mself\u001b[39;49m\u001b[43m)\u001b[49m\u001b[38;5;241;43m.\u001b[39;49m\u001b[38;5;21;43m__init__\u001b[39;49m\u001b[43m(\u001b[49m\n\u001b[0;32m    187\u001b[0m \u001b[43m    \u001b[49m\u001b[43mcorpus\u001b[49m\u001b[38;5;241;43m=\u001b[39;49m\u001b[43mcorpus\u001b[49m\u001b[43m,\u001b[49m\u001b[43m \u001b[49m\u001b[43mnum_topics\u001b[49m\u001b[38;5;241;43m=\u001b[39;49m\u001b[43mnum_topics\u001b[49m\u001b[43m,\u001b[49m\n\u001b[0;32m    188\u001b[0m \u001b[43m    \u001b[49m\u001b[43mid2word\u001b[49m\u001b[38;5;241;43m=\u001b[39;49m\u001b[43mid2word\u001b[49m\u001b[43m,\u001b[49m\u001b[43m \u001b[49m\u001b[43mchunksize\u001b[49m\u001b[38;5;241;43m=\u001b[39;49m\u001b[43mchunksize\u001b[49m\u001b[43m,\u001b[49m\u001b[43m \u001b[49m\u001b[43mpasses\u001b[49m\u001b[38;5;241;43m=\u001b[39;49m\u001b[43mpasses\u001b[49m\u001b[43m,\u001b[49m\u001b[43m \u001b[49m\u001b[43malpha\u001b[49m\u001b[38;5;241;43m=\u001b[39;49m\u001b[43malpha\u001b[49m\u001b[43m,\u001b[49m\u001b[43m \u001b[49m\u001b[43meta\u001b[49m\u001b[38;5;241;43m=\u001b[39;49m\u001b[43meta\u001b[49m\u001b[43m,\u001b[49m\n\u001b[0;32m    189\u001b[0m \u001b[43m    \u001b[49m\u001b[43mdecay\u001b[49m\u001b[38;5;241;43m=\u001b[39;49m\u001b[43mdecay\u001b[49m\u001b[43m,\u001b[49m\u001b[43m \u001b[49m\u001b[43moffset\u001b[49m\u001b[38;5;241;43m=\u001b[39;49m\u001b[43moffset\u001b[49m\u001b[43m,\u001b[49m\u001b[43m \u001b[49m\u001b[43meval_every\u001b[49m\u001b[38;5;241;43m=\u001b[39;49m\u001b[43meval_every\u001b[49m\u001b[43m,\u001b[49m\u001b[43m \u001b[49m\u001b[43miterations\u001b[49m\u001b[38;5;241;43m=\u001b[39;49m\u001b[43miterations\u001b[49m\u001b[43m,\u001b[49m\n\u001b[0;32m    190\u001b[0m \u001b[43m    \u001b[49m\u001b[43mgamma_threshold\u001b[49m\u001b[38;5;241;43m=\u001b[39;49m\u001b[43mgamma_threshold\u001b[49m\u001b[43m,\u001b[49m\u001b[43m \u001b[49m\u001b[43mrandom_state\u001b[49m\u001b[38;5;241;43m=\u001b[39;49m\u001b[43mrandom_state\u001b[49m\u001b[43m,\u001b[49m\u001b[43m \u001b[49m\u001b[43mminimum_probability\u001b[49m\u001b[38;5;241;43m=\u001b[39;49m\u001b[43mminimum_probability\u001b[49m\u001b[43m,\u001b[49m\n\u001b[0;32m    191\u001b[0m \u001b[43m    \u001b[49m\u001b[43mminimum_phi_value\u001b[49m\u001b[38;5;241;43m=\u001b[39;49m\u001b[43mminimum_phi_value\u001b[49m\u001b[43m,\u001b[49m\u001b[43m \u001b[49m\u001b[43mper_word_topics\u001b[49m\u001b[38;5;241;43m=\u001b[39;49m\u001b[43mper_word_topics\u001b[49m\u001b[43m,\u001b[49m\u001b[43m \u001b[49m\u001b[43mdtype\u001b[49m\u001b[38;5;241;43m=\u001b[39;49m\u001b[43mdtype\u001b[49m\u001b[43m,\u001b[49m\n\u001b[0;32m    192\u001b[0m \u001b[43m\u001b[49m\u001b[43m)\u001b[49m\n",
      "File \u001b[1;32mc:\\Users\\sraps\\AppData\\Local\\Programs\\Python\\Python311\\Lib\\site-packages\\gensim\\models\\ldamodel.py:521\u001b[0m, in \u001b[0;36mLdaModel.__init__\u001b[1;34m(self, corpus, num_topics, id2word, distributed, chunksize, passes, update_every, alpha, eta, decay, offset, eval_every, iterations, gamma_threshold, minimum_probability, random_state, ns_conf, minimum_phi_value, per_word_topics, callbacks, dtype)\u001b[0m\n\u001b[0;32m    519\u001b[0m use_numpy \u001b[38;5;241m=\u001b[39m \u001b[38;5;28mself\u001b[39m\u001b[38;5;241m.\u001b[39mdispatcher \u001b[38;5;129;01mis\u001b[39;00m \u001b[38;5;129;01mnot\u001b[39;00m \u001b[38;5;28;01mNone\u001b[39;00m\n\u001b[0;32m    520\u001b[0m start \u001b[38;5;241m=\u001b[39m time\u001b[38;5;241m.\u001b[39mtime()\n\u001b[1;32m--> 521\u001b[0m \u001b[38;5;28;43mself\u001b[39;49m\u001b[38;5;241;43m.\u001b[39;49m\u001b[43mupdate\u001b[49m\u001b[43m(\u001b[49m\u001b[43mcorpus\u001b[49m\u001b[43m,\u001b[49m\u001b[43m \u001b[49m\u001b[43mchunks_as_numpy\u001b[49m\u001b[38;5;241;43m=\u001b[39;49m\u001b[43muse_numpy\u001b[49m\u001b[43m)\u001b[49m\n\u001b[0;32m    522\u001b[0m \u001b[38;5;28mself\u001b[39m\u001b[38;5;241m.\u001b[39madd_lifecycle_event(\n\u001b[0;32m    523\u001b[0m     \u001b[38;5;124m\"\u001b[39m\u001b[38;5;124mcreated\u001b[39m\u001b[38;5;124m\"\u001b[39m,\n\u001b[0;32m    524\u001b[0m     msg\u001b[38;5;241m=\u001b[39m\u001b[38;5;124mf\u001b[39m\u001b[38;5;124m\"\u001b[39m\u001b[38;5;124mtrained \u001b[39m\u001b[38;5;132;01m{\u001b[39;00m\u001b[38;5;28mself\u001b[39m\u001b[38;5;132;01m}\u001b[39;00m\u001b[38;5;124m in \u001b[39m\u001b[38;5;132;01m{\u001b[39;00mtime\u001b[38;5;241m.\u001b[39mtime()\u001b[38;5;250m \u001b[39m\u001b[38;5;241m-\u001b[39m\u001b[38;5;250m \u001b[39mstart\u001b[38;5;132;01m:\u001b[39;00m\u001b[38;5;124m.2f\u001b[39m\u001b[38;5;132;01m}\u001b[39;00m\u001b[38;5;124ms\u001b[39m\u001b[38;5;124m\"\u001b[39m,\n\u001b[0;32m    525\u001b[0m )\n",
      "File \u001b[1;32mc:\\Users\\sraps\\AppData\\Local\\Programs\\Python\\Python311\\Lib\\site-packages\\gensim\\models\\ldamulticore.py:316\u001b[0m, in \u001b[0;36mLdaMulticore.update\u001b[1;34m(self, corpus, chunks_as_numpy)\u001b[0m\n\u001b[0;32m    312\u001b[0m \u001b[38;5;66;03m# endfor single corpus pass\u001b[39;00m\n\u001b[0;32m    313\u001b[0m \n\u001b[0;32m    314\u001b[0m \u001b[38;5;66;03m# wait for all outstanding jobs to finish\u001b[39;00m\n\u001b[0;32m    315\u001b[0m \u001b[38;5;28;01mwhile\u001b[39;00m queue_size[\u001b[38;5;241m0\u001b[39m] \u001b[38;5;241m>\u001b[39m \u001b[38;5;241m0\u001b[39m:\n\u001b[1;32m--> 316\u001b[0m     \u001b[43mprocess_result_queue\u001b[49m\u001b[43m(\u001b[49m\u001b[43mforce\u001b[49m\u001b[38;5;241;43m=\u001b[39;49m\u001b[38;5;28;43;01mTrue\u001b[39;49;00m\u001b[43m)\u001b[49m\n\u001b[0;32m    318\u001b[0m \u001b[38;5;28;01mif\u001b[39;00m reallen \u001b[38;5;241m!=\u001b[39m lencorpus:\n\u001b[0;32m    319\u001b[0m     \u001b[38;5;28;01mraise\u001b[39;00m \u001b[38;5;167;01mRuntimeError\u001b[39;00m(\u001b[38;5;124m\"\u001b[39m\u001b[38;5;124minput corpus size changed during training (don\u001b[39m\u001b[38;5;124m'\u001b[39m\u001b[38;5;124mt use generators as input)\u001b[39m\u001b[38;5;124m\"\u001b[39m)\n",
      "File \u001b[1;32mc:\\Users\\sraps\\AppData\\Local\\Programs\\Python\\Python311\\Lib\\site-packages\\gensim\\models\\ldamulticore.py:274\u001b[0m, in \u001b[0;36mLdaMulticore.update.<locals>.process_result_queue\u001b[1;34m(force)\u001b[0m\n\u001b[0;32m    268\u001b[0m \u001b[38;5;250m\u001b[39m\u001b[38;5;124;03m\"\"\"\u001b[39;00m\n\u001b[0;32m    269\u001b[0m \u001b[38;5;124;03mClear the result queue, merging all intermediate results, and update the\u001b[39;00m\n\u001b[0;32m    270\u001b[0m \u001b[38;5;124;03mLDA model if necessary.\u001b[39;00m\n\u001b[0;32m    271\u001b[0m \n\u001b[0;32m    272\u001b[0m \u001b[38;5;124;03m\"\"\"\u001b[39;00m\n\u001b[0;32m    273\u001b[0m merged_new \u001b[38;5;241m=\u001b[39m \u001b[38;5;28;01mFalse\u001b[39;00m\n\u001b[1;32m--> 274\u001b[0m \u001b[38;5;28;01mwhile\u001b[39;00m \u001b[38;5;129;01mnot\u001b[39;00m \u001b[43mresult_queue\u001b[49m\u001b[38;5;241;43m.\u001b[39;49m\u001b[43mempty\u001b[49m\u001b[43m(\u001b[49m\u001b[43m)\u001b[49m:\n\u001b[0;32m    275\u001b[0m     other\u001b[38;5;241m.\u001b[39mmerge(result_queue\u001b[38;5;241m.\u001b[39mget())\n\u001b[0;32m    276\u001b[0m     queue_size[\u001b[38;5;241m0\u001b[39m] \u001b[38;5;241m-\u001b[39m\u001b[38;5;241m=\u001b[39m \u001b[38;5;241m1\u001b[39m\n",
      "File \u001b[1;32mc:\\Users\\sraps\\AppData\\Local\\Programs\\Python\\Python311\\Lib\\multiprocessing\\queues.py:129\u001b[0m, in \u001b[0;36mQueue.empty\u001b[1;34m(self)\u001b[0m\n\u001b[0;32m    128\u001b[0m \u001b[38;5;28;01mdef\u001b[39;00m \u001b[38;5;21mempty\u001b[39m(\u001b[38;5;28mself\u001b[39m):\n\u001b[1;32m--> 129\u001b[0m     \u001b[38;5;28;01mreturn\u001b[39;00m \u001b[38;5;129;01mnot\u001b[39;00m \u001b[38;5;28;43mself\u001b[39;49m\u001b[38;5;241;43m.\u001b[39;49m\u001b[43m_poll\u001b[49m\u001b[43m(\u001b[49m\u001b[43m)\u001b[49m\n",
      "File \u001b[1;32mc:\\Users\\sraps\\AppData\\Local\\Programs\\Python\\Python311\\Lib\\multiprocessing\\connection.py:257\u001b[0m, in \u001b[0;36m_ConnectionBase.poll\u001b[1;34m(self, timeout)\u001b[0m\n\u001b[0;32m    255\u001b[0m \u001b[38;5;28mself\u001b[39m\u001b[38;5;241m.\u001b[39m_check_closed()\n\u001b[0;32m    256\u001b[0m \u001b[38;5;28mself\u001b[39m\u001b[38;5;241m.\u001b[39m_check_readable()\n\u001b[1;32m--> 257\u001b[0m \u001b[38;5;28;01mreturn\u001b[39;00m \u001b[38;5;28;43mself\u001b[39;49m\u001b[38;5;241;43m.\u001b[39;49m\u001b[43m_poll\u001b[49m\u001b[43m(\u001b[49m\u001b[43mtimeout\u001b[49m\u001b[43m)\u001b[49m\n",
      "File \u001b[1;32mc:\\Users\\sraps\\AppData\\Local\\Programs\\Python\\Python311\\Lib\\multiprocessing\\connection.py:344\u001b[0m, in \u001b[0;36mPipeConnection._poll\u001b[1;34m(self, timeout)\u001b[0m\n\u001b[0;32m    342\u001b[0m \u001b[38;5;28;01mdef\u001b[39;00m \u001b[38;5;21m_poll\u001b[39m(\u001b[38;5;28mself\u001b[39m, timeout):\n\u001b[0;32m    343\u001b[0m     \u001b[38;5;28;01mif\u001b[39;00m (\u001b[38;5;28mself\u001b[39m\u001b[38;5;241m.\u001b[39m_got_empty_message \u001b[38;5;129;01mor\u001b[39;00m\n\u001b[1;32m--> 344\u001b[0m                 _winapi\u001b[38;5;241m.\u001b[39mPeekNamedPipe(\u001b[38;5;28mself\u001b[39m\u001b[38;5;241m.\u001b[39m_handle)[\u001b[38;5;241m0\u001b[39m] \u001b[38;5;241m!=\u001b[39m \u001b[38;5;241m0\u001b[39m):\n\u001b[0;32m    345\u001b[0m         \u001b[38;5;28;01mreturn\u001b[39;00m \u001b[38;5;28;01mTrue\u001b[39;00m\n\u001b[0;32m    346\u001b[0m     \u001b[38;5;28;01mreturn\u001b[39;00m \u001b[38;5;28mbool\u001b[39m(wait([\u001b[38;5;28mself\u001b[39m], timeout))\n",
      "\u001b[1;31mKeyboardInterrupt\u001b[0m: "
     ]
    }
   ],
   "source": [
    "from gensim.models import CoherenceModel\n",
    "from gensim.corpora import Dictionary\n",
    "\n",
    "dictionary = Dictionary(processed_docs)\n",
    "corpus = [dictionary.doc2bow(doc) for doc in processed_docs]\n",
    "\n",
    "for alpha in [0.01, 0.1,0.3, 0.5,0.7, 1]:\n",
    "    for beta in [0.01, 0.1,0.03, 0.5, 0.7,1]:\n",
    "        lda_model = gensim.models.LdaMulticore(corpus, num_topics=4, id2word=dictionary, passes=7, alpha=alpha, eta=beta)\n",
    "        coherence_model_lda = CoherenceModel(model=lda_model, texts=processed_docs, dictionary=dictionary, coherence='c_v')\n",
    "        coherence_lda = coherence_model_lda.get_coherence()\n",
    "        print(f'Alpha: {alpha}, Beta: {beta}, Coherence: {coherence_lda}')\n"
   ]
  },
  {
   "cell_type": "code",
   "execution_count": null,
   "metadata": {},
   "outputs": [],
   "source": [
    "#! pip install pyldavis"
   ]
  },
  {
   "cell_type": "code",
   "execution_count": null,
   "metadata": {},
   "outputs": [
    {
     "data": {
      "text/html": [
       "\n",
       "<link rel=\"stylesheet\" type=\"text/css\" href=\"https://cdn.jsdelivr.net/gh/bmabey/pyLDAvis@3.4.0/pyLDAvis/js/ldavis.v1.0.0.css\">\n",
       "\n",
       "\n",
       "<div id=\"ldavis_el1142416752418416963527722820\" style=\"background-color:white;\"></div>\n",
       "<script type=\"text/javascript\">\n",
       "\n",
       "var ldavis_el1142416752418416963527722820_data = {\"mdsDat\": {\"x\": [-0.03500168662323889, -0.04511185509985585, 0.021346972127616014, 0.05876656959547876], \"y\": [0.04147648904902256, -0.04140253745449043, 0.011000981967109842, -0.011074933561642032], \"topics\": [1, 2, 3, 4], \"cluster\": [1, 1, 1, 1], \"Freq\": [35.89894056626113, 35.44809127511568, 18.370273544687592, 10.2826946139356]}, \"tinfo\": {\"Term\": [\"one\", \"food\", \"paris\", \"best\", \"friendly\", \"restaurant\", \"great\", \"staff\", \"le\", \"nice\", \"little\", \"small\", \"steak\", \"go\", \"time\", \"really\", \"find\", \"de\", \"english\", \"wine\", \"meal\", \"les\", \"meals\", \"burger\", \"favorite\", \"lovely\", \"chez\", \"ive\", \"would\", \"trip\", \"chez\", \"couple\", \"authentic\", \"find\", \"stay\", \"stars\", \"escargot\", \"ago\", \"would\", \"recommendation\", \"recent\", \"le\", \"years\", \"closed\", \"yes\", \"wanted\", \"busy\", \"trip\", \"every\", \"wow\", \"still\", \"poutine\", \"tourists\", \"really\", \"city\", \"asked\", \"walked\", \"thai\", \"meal\", \"say\", \"definitely\", \"paris\", \"food\", \"friend\", \"favorite\", \"first\", \"last\", \"best\", \"restaurant\", \"good\", \"service\", \"great\", \"looking\", \"ive\", \"french\", \"dinner\", \"place\", \"day\", \"try\", \"night\", \"amazing\", \"spot\", \"delicious\", \"experience\", \"get\", \"time\", \"go\", \"excellent\", \"english\", \"helpful\", \"little\", \"bar\", \"tasting\", \"breakfast\", \"right\", \"neighborhood\", \"small\", \"cafe\", \"staff\", \"lovely\", \"host\", \"wine\", \"friendly\", \"cozy\", \"speak\", \"spoke\", \"patio\", \"server\", \"concept\", \"centre\", \"know\", \"options\", \"sure\", \"afternoon\", \"home\", \"reservations\", \"glass\", \"quaint\", \"atmosphere\", \"sit\", \"make\", \"inside\", \"absolutely\", \"menu\", \"nice\", \"quick\", \"place\", \"well\", \"great\", \"like\", \"reservation\", \"restaurant\", \"excellent\", \"delicious\", \"us\", \"service\", \"good\", \"dinner\", \"food\", \"came\", \"super\", \"french\", \"paris\", \"lunch\", \"amazing\", \"birthday\", \"took\", \"portions\", \"generous\", \"better\", \"average\", \"daughter\", \"medium\", \"meals\", \"water\", \"treated\", \"burger\", \"wrong\", \"caf\", \"wouldnt\", \"space\", \"steak\", \"foods\", \"cooked\", \"brunch\", \"flavor\", \"perfectly\", \"rare\", \"one\", \"tender\", \"exquisite\", \"limited\", \"bottles\", \"veggie\", \"burgers\", \"bourguignon\", \"tartare\", \"several\", \"eating\", \"incredible\", \"arrived\", \"ok\", \"best\", \"location\", \"ordered\", \"beef\", \"amazing\", \"come\", \"paris\", \"time\", \"fish\", \"got\", \"experience\", \"nice\", \"food\", \"us\", \"eat\", \"lunch\", \"service\", \"good\", \"place\", \"fantastic\", \"delicious\", \"everything\", \"ever\", \"came\", \"favorite\", \"wonderful\", \"spot\", \"dim\", \"que\", \"wont\", \"les\", \"trs\", \"et\", \"pot\", \"sum\", \"pour\", \"eyes\", \"avec\", \"soon\", \"jai\", \"est\", \"jardin\", \"fois\", \"ce\", \"je\", \"crocs\", \"ou\", \"muy\", \"sot\", \"lion\", \"credit\", \"forgotten\", \"face\", \"asparagus\", \"lettuce\", \"cash\", \"porte\", \"early\", \"des\", \"de\", \"du\", \"crowded\", \"hot\", \"show\", \"hours\", \"go\", \"france\", \"il\", \"table\", \"la\", \"reading\", \"came\", \"time\", \"le\", \"get\", \"first\", \"paris\", \"day\", \"long\", \"intimate\", \"quite\", \"late\", \"reservations\", \"restaurant\", \"made\", \"place\", \"service\", \"went\", \"pretty\"], \"Freq\": [59.0, 241.0, 181.0, 55.0, 58.0, 137.0, 161.0, 53.0, 29.0, 51.0, 39.0, 38.0, 19.0, 33.0, 34.0, 44.0, 26.0, 14.0, 21.0, 38.0, 52.0, 7.0, 11.0, 10.0, 32.0, 25.0, 16.0, 21.0, 27.0, 26.0, 15.047745908298603, 10.427726571803031, 9.872570005068157, 21.937746494298345, 8.40499985965284, 9.16136259508053, 11.258236905677487, 8.104407690641061, 22.091280780006294, 7.658002308119609, 5.52081857176877, 23.352977245000705, 12.90448337239456, 7.256695608263897, 8.047920867855135, 15.300627206441893, 15.641744705808371, 19.61566639796697, 15.170234068715397, 6.015951452614697, 10.447352189674389, 4.2700571046999825, 5.60764642764863, 32.99042897882837, 8.162918940893608, 5.5066133731516995, 6.666288109770133, 5.605947144419018, 37.907504356853146, 10.071077917966072, 14.265262026463853, 116.66777844120496, 150.73750385302975, 14.343913093279316, 21.086473273343454, 29.89434964688317, 18.79641179253247, 33.41133628546029, 69.89591235926706, 56.52582832444043, 63.1403802482631, 70.01192264603884, 17.913086117516677, 14.308067780200284, 31.893336416009095, 31.331916776799364, 59.02893284253631, 16.44799059928076, 16.877628249362477, 20.325610747649296, 26.50455472585278, 19.49538215640555, 25.351816890037487, 19.968122750883772, 18.804724303569103, 17.8201390029591, 17.033264938304292, 17.625264319442593, 18.54461274810821, 13.156611073497025, 32.833205754504085, 14.52736781223233, 9.64627610574521, 12.908587973293026, 17.62560598867492, 13.568264771846449, 30.92132210180137, 18.36655475263887, 43.01445631951256, 20.184643615952385, 5.496917556040058, 29.61463369952585, 45.24114807718998, 15.712876827439075, 6.803302330680828, 4.869835692544342, 5.260741744646506, 12.187778873924932, 4.2874506497731915, 4.26399541498878, 8.106011612900943, 5.568674644925261, 8.18677946927196, 5.061518796527599, 5.069090964657857, 15.01888574786753, 4.933229583408755, 5.852301354022216, 13.732874532794845, 9.028912505707186, 18.395326739749958, 13.181767131503365, 13.833270680903194, 32.9572834053591, 34.63364789590705, 11.711254187114772, 91.81141232424048, 20.691725010205165, 83.93853080342087, 23.51251726114909, 22.911972307654114, 62.448487386685905, 26.70907413346227, 36.60014384547823, 26.4376484611617, 53.717702351971624, 43.966219997167556, 30.468879154165503, 63.99115402447782, 24.367077965533916, 17.95656592160726, 26.49055521332588, 26.835235047610258, 17.32350375591802, 18.973400342745855, 5.083794262377804, 5.15510574530019, 4.41617927612434, 3.0531740004967935, 3.329374057026042, 4.00909814263892, 4.165600949057564, 2.9760821993944315, 6.991711455993991, 2.9387797514190708, 2.603843335481505, 6.295664102676492, 3.459278854785849, 4.300728002954313, 3.9065645470869494, 5.414100739631861, 10.85545222288554, 2.740379001968497, 3.8346790037155736, 4.977908153803733, 2.987031508430345, 2.117126842563347, 2.6590355774293375, 31.231770396718723, 1.7889592580772642, 2.3336129429721293, 2.31312726647098, 1.7731328820399654, 2.313680246667417, 2.744331925755279, 3.6336953586776266, 4.465571060722346, 3.875642075190083, 3.995791609647876, 6.838959428797468, 5.463043815996952, 3.3045765277950867, 19.605976481857038, 7.973672533287268, 10.653386709171924, 7.528651085970217, 16.947723508803733, 7.072676188853357, 32.46519404238676, 9.835405905024327, 4.5735083531564475, 9.954687761229714, 10.669450614483525, 11.466990349450105, 25.234345189966092, 10.472087502821568, 7.604393939125723, 8.539614073579543, 15.446610770358207, 14.067403626694762, 15.453049281780846, 6.314292270137941, 10.034712917118144, 7.022396022183472, 6.50174314590298, 7.837677048271948, 6.963914131538117, 6.79614167153137, 6.318478206002052, 2.1306820599734624, 2.1059895097600214, 1.8882399827632461, 3.6964449940439, 1.6260640300483755, 2.043310268495546, 1.5958406300917618, 1.7700881032635916, 1.325386523569703, 1.5181808539967998, 1.2864158305261888, 1.4284919169275976, 1.233789423321935, 1.4125799515172908, 1.225875898090333, 1.7198251972048733, 1.2041550549648887, 0.9996043238588974, 0.9995897850714283, 0.9980916578409069, 0.9973349034177821, 0.9967154246473555, 0.9966866631330142, 0.9951463944895388, 0.9943880597634281, 0.9930459611143697, 0.9927978535456019, 0.9923352461848973, 0.9903106673530457, 0.9871729230980094, 2.045653331055799, 2.0744091563062828, 4.248460419300353, 2.78935108020502, 1.562874456273025, 2.3471235175121397, 1.7513897476287539, 1.6249648766449978, 5.962755820297378, 2.703848049684557, 1.3384112754249862, 3.428891270268413, 2.9031982143714044, 1.9010258981606114, 4.857597686987948, 4.0227699751535555, 3.7224542527050946, 3.713016261859875, 3.673869839124342, 5.967301193098616, 2.6945413293406895, 2.213608985920036, 1.7438073485494392, 2.0338044299754703, 2.058432082412962, 2.1623732453432702, 2.9226100241275565, 2.1808762755290654, 2.628984250985573, 2.215456044049818, 1.9735283027847075, 1.9346661238795504], \"Total\": [59.0, 241.0, 181.0, 55.0, 58.0, 137.0, 161.0, 53.0, 29.0, 51.0, 39.0, 38.0, 19.0, 33.0, 34.0, 44.0, 26.0, 14.0, 21.0, 38.0, 52.0, 7.0, 11.0, 10.0, 32.0, 25.0, 16.0, 21.0, 27.0, 26.0, 16.90443648490602, 12.375483376898329, 11.775911026093329, 26.327153293338636, 10.096232399728967, 11.198035361296657, 13.962414304180324, 10.102286765270838, 27.95797684218157, 9.704244177626764, 7.017499105829128, 29.703494056939817, 16.62132655644495, 9.438728136812918, 10.521164274375158, 20.167208282644026, 20.67419666732092, 26.247488988686595, 20.366220720306742, 8.102030029135053, 14.096629970106266, 5.762278381408141, 7.574015305375903, 44.64246264220365, 11.229916727064978, 7.58088316526855, 9.236489236184877, 7.800115196485703, 52.97490862190682, 14.216213588852687, 20.197180362902444, 181.9355087243006, 241.187501257421, 20.70272832360826, 32.018197018686145, 47.06841635137273, 28.490563099269213, 55.89157008667305, 137.63165830309043, 115.20151198415374, 134.52014941464276, 161.57833655629003, 29.107966388173352, 21.67033111959504, 65.76436199450393, 66.38807005751043, 168.9223786995432, 26.488757127638085, 28.23561720048989, 39.72288017647005, 64.32481064046482, 39.19026718006834, 73.13726180941089, 43.822371562141896, 38.06410181096612, 34.65262794892383, 33.05050176470361, 48.110382406447876, 21.12775918171068, 15.502409477047994, 39.20811709497159, 17.46483274344451, 11.598188188217827, 15.747712627089294, 21.571989680055076, 16.671952304194473, 38.333696544334614, 22.77188056540012, 53.44193485373043, 25.51646349455726, 6.975069149397255, 38.02023632720684, 58.19484124639329, 20.289798634245063, 8.808038153956984, 6.366568246645747, 6.926096764604972, 16.26272577127205, 5.751290954306936, 5.742963441563634, 10.947416202558925, 7.591243707021568, 11.172102173919118, 6.909665709143136, 6.947455572291628, 20.74934392153818, 6.829180237656387, 8.109974377271739, 19.162241060479314, 12.556600297411382, 25.799528602927854, 18.530748006877715, 19.55069344910079, 48.891509684665074, 51.725692607535855, 16.61529484398863, 168.9223786995432, 32.12787123063709, 161.57833655629003, 37.70832368963624, 39.14997554230292, 137.63165830309043, 48.110382406447876, 73.13726180941089, 47.949291213764624, 134.52014941464276, 115.20151198415374, 66.38807005751043, 241.187501257421, 48.925491770227524, 29.412639203638893, 65.76436199450393, 181.9355087243006, 35.849550667026, 64.32481064046482, 7.10624186792918, 7.709845052452535, 6.753697129029595, 4.758806549451119, 5.2049371430443765, 6.286819166512246, 6.644298553986712, 4.808242909935135, 11.394215014219611, 4.82041369072368, 4.279472845071382, 10.390344027515075, 5.8575922288447835, 7.415819187145039, 6.779519454371143, 9.481507076004197, 19.377444316491953, 4.895653111692805, 6.91451315405328, 9.021998798765708, 5.424852497078199, 3.889790916502754, 4.918673726682321, 59.193172442843455, 3.393411886772838, 4.428666117426268, 4.425769427712382, 3.397762829890947, 4.435571937099556, 5.279127548267538, 7.049973538122164, 8.764709939682003, 7.573072256048804, 7.889907512179594, 14.487042066206017, 11.323778971242415, 6.546362502062458, 55.89157008667305, 19.871750457167515, 30.018625782536688, 19.21470355544022, 64.32481064046482, 18.611604488759966, 181.9355087243006, 34.65262794892383, 9.931261600061202, 37.17039348077574, 43.822371562141896, 51.725692607535855, 241.187501257421, 47.949291213764624, 26.29214661340064, 35.849550667026, 134.52014941464276, 115.20151198415374, 168.9223786995432, 19.017084580418032, 73.13726180941089, 26.797424332488642, 21.095068920923758, 48.925491770227524, 32.018197018686145, 28.744680061148742, 39.19026718006834, 4.224069348630779, 4.245099192449652, 3.808068871684334, 7.697591738325554, 3.4138106867352938, 4.299636331425191, 3.437431073195608, 3.9115756259365675, 3.0490135526473052, 3.497128393901287, 3.0833895531283977, 3.5214945298594125, 3.1279062622996125, 3.5941223144890206, 3.1274909142863208, 4.41449734180999, 3.1533314029245036, 2.707451908278405, 2.707443085945754, 2.7086162709521444, 2.7088509127102203, 2.709758517486244, 2.7098091955821584, 2.7095626525834096, 2.7108678759879323, 2.7114820836420215, 2.711819874933308, 2.7118879001074596, 2.714411688862925, 2.7169903774718227, 6.02572201527316, 6.1338045816765225, 14.610255916726665, 9.255258877607886, 4.717594624134579, 8.245456801052116, 5.787594475678461, 5.274926844420111, 33.05050176470361, 11.879858619138448, 4.192439464382682, 19.00246141191283, 14.635513939078105, 7.523252662893919, 48.925491770227524, 34.65262794892383, 29.703494056939817, 38.06410181096612, 47.06841635137273, 181.9355087243006, 26.488757127638085, 14.998767853024923, 6.902214785526266, 12.721816571394806, 13.511418997471901, 20.74934392153818, 137.63165830309043, 29.79179349673075, 168.9223786995432, 134.52014941464276, 31.55838304703781, 17.126920686293857], \"Category\": [\"Default\", \"Default\", \"Default\", \"Default\", \"Default\", \"Default\", \"Default\", \"Default\", \"Default\", \"Default\", \"Default\", \"Default\", \"Default\", \"Default\", \"Default\", \"Default\", \"Default\", \"Default\", \"Default\", \"Default\", \"Default\", \"Default\", \"Default\", \"Default\", \"Default\", \"Default\", \"Default\", \"Default\", \"Default\", \"Default\", \"Topic1\", \"Topic1\", \"Topic1\", \"Topic1\", \"Topic1\", \"Topic1\", \"Topic1\", \"Topic1\", \"Topic1\", \"Topic1\", \"Topic1\", \"Topic1\", \"Topic1\", \"Topic1\", \"Topic1\", \"Topic1\", \"Topic1\", \"Topic1\", \"Topic1\", \"Topic1\", \"Topic1\", \"Topic1\", \"Topic1\", \"Topic1\", \"Topic1\", \"Topic1\", \"Topic1\", \"Topic1\", \"Topic1\", \"Topic1\", \"Topic1\", \"Topic1\", \"Topic1\", \"Topic1\", \"Topic1\", \"Topic1\", \"Topic1\", \"Topic1\", \"Topic1\", \"Topic1\", \"Topic1\", \"Topic1\", \"Topic1\", \"Topic1\", \"Topic1\", \"Topic1\", \"Topic1\", \"Topic1\", \"Topic1\", \"Topic1\", \"Topic1\", \"Topic1\", \"Topic1\", \"Topic1\", \"Topic1\", \"Topic1\", \"Topic1\", \"Topic1\", \"Topic2\", \"Topic2\", \"Topic2\", \"Topic2\", \"Topic2\", \"Topic2\", \"Topic2\", \"Topic2\", \"Topic2\", \"Topic2\", \"Topic2\", \"Topic2\", \"Topic2\", \"Topic2\", \"Topic2\", \"Topic2\", \"Topic2\", \"Topic2\", \"Topic2\", \"Topic2\", \"Topic2\", \"Topic2\", \"Topic2\", \"Topic2\", \"Topic2\", \"Topic2\", \"Topic2\", \"Topic2\", \"Topic2\", \"Topic2\", \"Topic2\", \"Topic2\", \"Topic2\", \"Topic2\", \"Topic2\", \"Topic2\", \"Topic2\", \"Topic2\", \"Topic2\", \"Topic2\", \"Topic2\", \"Topic2\", \"Topic2\", \"Topic2\", \"Topic2\", \"Topic2\", \"Topic2\", \"Topic2\", \"Topic2\", \"Topic2\", \"Topic2\", \"Topic2\", \"Topic2\", \"Topic2\", \"Topic2\", \"Topic2\", \"Topic2\", \"Topic3\", \"Topic3\", \"Topic3\", \"Topic3\", \"Topic3\", \"Topic3\", \"Topic3\", \"Topic3\", \"Topic3\", \"Topic3\", \"Topic3\", \"Topic3\", \"Topic3\", \"Topic3\", \"Topic3\", \"Topic3\", \"Topic3\", \"Topic3\", \"Topic3\", \"Topic3\", \"Topic3\", \"Topic3\", \"Topic3\", \"Topic3\", \"Topic3\", \"Topic3\", \"Topic3\", \"Topic3\", \"Topic3\", \"Topic3\", \"Topic3\", \"Topic3\", \"Topic3\", \"Topic3\", \"Topic3\", \"Topic3\", \"Topic3\", \"Topic3\", \"Topic3\", \"Topic3\", \"Topic3\", \"Topic3\", \"Topic3\", \"Topic3\", \"Topic3\", \"Topic3\", \"Topic3\", \"Topic3\", \"Topic3\", \"Topic3\", \"Topic3\", \"Topic3\", \"Topic3\", \"Topic3\", \"Topic3\", \"Topic3\", \"Topic3\", \"Topic3\", \"Topic3\", \"Topic3\", \"Topic3\", \"Topic3\", \"Topic3\", \"Topic3\", \"Topic4\", \"Topic4\", \"Topic4\", \"Topic4\", \"Topic4\", \"Topic4\", \"Topic4\", \"Topic4\", \"Topic4\", \"Topic4\", \"Topic4\", \"Topic4\", \"Topic4\", \"Topic4\", \"Topic4\", \"Topic4\", \"Topic4\", \"Topic4\", \"Topic4\", \"Topic4\", \"Topic4\", \"Topic4\", \"Topic4\", \"Topic4\", \"Topic4\", \"Topic4\", \"Topic4\", \"Topic4\", \"Topic4\", \"Topic4\", \"Topic4\", \"Topic4\", \"Topic4\", \"Topic4\", \"Topic4\", \"Topic4\", \"Topic4\", \"Topic4\", \"Topic4\", \"Topic4\", \"Topic4\", \"Topic4\", \"Topic4\", \"Topic4\", \"Topic4\", \"Topic4\", \"Topic4\", \"Topic4\", \"Topic4\", \"Topic4\", \"Topic4\", \"Topic4\", \"Topic4\", \"Topic4\", \"Topic4\", \"Topic4\", \"Topic4\", \"Topic4\", \"Topic4\", \"Topic4\", \"Topic4\", \"Topic4\"], \"logprob\": [30.0, 29.0, 28.0, 27.0, 26.0, 25.0, 24.0, 23.0, 22.0, 21.0, 20.0, 19.0, 18.0, 17.0, 16.0, 15.0, 14.0, 13.0, 12.0, 11.0, 10.0, 9.0, 8.0, 7.0, 6.0, 5.0, 4.0, 3.0, 2.0, 1.0, -6.0401, -6.4068, -6.4615, -5.6631, -6.6225, -6.5363, -6.3302, -6.6589, -5.6561, -6.7156, -7.0428, -5.6006, -6.1937, -6.7694, -6.6659, -6.0234, -6.0014, -5.775, -6.032, -6.9569, -6.405, -7.2997, -7.0272, -5.2551, -6.6517, -7.0454, -6.8542, -7.0275, -5.1162, -6.4416, -6.0935, -3.992, -3.7358, -6.088, -5.7027, -5.3536, -5.8176, -5.2424, -4.5043, -4.7166, -4.6059, -4.5026, -5.8658, -6.0905, -5.2889, -5.3067, -4.6733, -5.9511, -5.9253, -5.7394, -5.474, -5.7811, -5.5185, -5.7572, -5.8172, -5.871, -5.9161, -5.882, -5.8185, -6.1617, -5.2472, -6.0626, -6.4721, -6.1808, -5.8693, -6.1309, -5.3072, -5.8281, -4.9771, -5.7337, -7.0345, -5.3504, -4.9267, -5.9842, -6.8213, -7.1556, -7.0784, -6.2382, -7.283, -7.2885, -6.6461, -7.0215, -6.6361, -7.117, -7.1155, -6.0294, -7.1427, -6.9718, -6.1189, -6.5382, -5.8266, -6.1598, -6.1116, -5.2435, -5.1938, -6.2781, -4.2189, -5.7089, -4.3086, -5.5811, -5.607, -4.6043, -5.4537, -5.1386, -5.4639, -4.7549, -4.9552, -5.322, -4.5799, -5.5454, -5.8507, -5.4619, -5.449, -5.8866, -5.7956, -6.4553, -6.4413, -6.5961, -6.9651, -6.8785, -6.6928, -6.6545, -6.9907, -6.1366, -7.0033, -7.1243, -6.2415, -6.8403, -6.6225, -6.7187, -6.3923, -5.6967, -7.0732, -6.7372, -6.4763, -6.9871, -7.3313, -7.1034, -4.6399, -7.4997, -7.2339, -7.2427, -7.5086, -7.2425, -7.0718, -6.7911, -6.5849, -6.7266, -6.6961, -6.1587, -6.3833, -6.886, -5.1055, -6.0052, -5.7155, -6.0626, -5.2512, -6.1251, -4.6012, -5.7953, -6.5611, -5.7833, -5.7139, -5.6419, -4.8531, -5.7326, -6.0526, -5.9366, -5.3439, -5.4375, -5.3435, -6.2385, -5.7753, -6.1322, -6.2093, -6.0224, -6.1406, -6.165, -6.2379, -6.7446, -6.7563, -6.8654, -6.1937, -7.0149, -6.7865, -7.0337, -6.93, -7.2194, -7.0835, -7.2492, -7.1444, -7.291, -7.1556, -7.2974, -6.9588, -7.3153, -7.5015, -7.5015, -7.503, -7.5037, -7.5043, -7.5044, -7.5059, -7.5067, -7.508, -7.5083, -7.5088, -7.5108, -7.514, -6.7853, -6.7714, -6.0545, -6.4753, -7.0545, -6.6479, -6.9407, -7.0156, -5.7155, -6.5064, -7.2096, -6.2688, -6.4352, -6.8587, -5.9205, -6.1091, -6.1867, -6.1892, -6.1998, -5.7148, -6.5098, -6.7064, -6.945, -6.7912, -6.7791, -6.7299, -6.4286, -6.7213, -6.5345, -6.7056, -6.8212, -6.8411], \"loglift\": [30.0, 29.0, 28.0, 27.0, 26.0, 25.0, 24.0, 23.0, 22.0, 21.0, 20.0, 19.0, 18.0, 17.0, 16.0, 15.0, 14.0, 13.0, 12.0, 11.0, 10.0, 9.0, 8.0, 7.0, 6.0, 5.0, 4.0, 3.0, 2.0, 1.0, 0.9081, 0.8532, 0.8482, 0.8421, 0.8411, 0.8237, 0.8092, 0.8041, 0.7889, 0.7877, 0.7846, 0.7839, 0.7714, 0.7616, 0.7565, 0.7483, 0.7455, 0.7332, 0.7299, 0.7268, 0.7249, 0.7248, 0.7239, 0.722, 0.7055, 0.7048, 0.6984, 0.6942, 0.6898, 0.6797, 0.6767, 0.5801, 0.5544, 0.6575, 0.6068, 0.5705, 0.6086, 0.5099, 0.3469, 0.3125, 0.2681, 0.1881, 0.539, 0.6093, 0.3008, 0.2736, -0.0269, 0.5479, 0.5099, 0.3544, 0.1378, 0.3262, -0.035, 0.2385, 0.3193, 0.3594, 0.3616, 0.0203, 0.9067, 0.873, 0.8597, 0.8529, 0.8528, 0.8383, 0.8351, 0.8311, 0.8222, 0.8221, 0.82, 0.8027, 0.7989, 0.7873, 0.7853, 0.7815, 0.7788, 0.7691, 0.7621, 0.7487, 0.7434, 0.7393, 0.7366, 0.7273, 0.7262, 0.7258, 0.7219, 0.7139, 0.7119, 0.7108, 0.704, 0.7073, 0.6988, 0.6965, 0.6912, 0.6427, 0.636, 0.6873, 0.4274, 0.5971, 0.3822, 0.5648, 0.5014, 0.2469, 0.4486, 0.3448, 0.4417, 0.1191, 0.0738, 0.2583, -0.2897, 0.34, 0.5436, 0.1278, -0.8768, 0.3098, -0.1838, 1.3595, 1.2919, 1.2696, 1.2506, 1.2476, 1.2445, 1.2275, 1.2147, 1.2061, 1.1996, 1.1976, 1.1934, 1.1678, 1.1496, 1.1432, 1.1341, 1.115, 1.1142, 1.1049, 1.0998, 1.0977, 1.0861, 1.0794, 1.0551, 1.0542, 1.0538, 1.0456, 1.0441, 1.0436, 1.0402, 1.0317, 1.0201, 1.0245, 1.0141, 0.9438, 0.9655, 1.0108, 0.6469, 0.7813, 0.6585, 0.7575, 0.3606, 0.7269, -0.029, 0.4351, 0.919, 0.377, 0.2817, 0.188, -0.5629, 0.173, 0.4539, 0.2598, -0.4699, -0.4084, -0.6972, 0.5919, -0.2919, 0.3552, 0.5175, -0.1369, 0.1689, 0.2523, -0.1305, 1.5904, 1.5737, 1.5732, 1.5412, 1.533, 1.5307, 1.5074, 1.4818, 1.4416, 1.4403, 1.4005, 1.3724, 1.3444, 1.3408, 1.3381, 1.332, 1.312, 1.2783, 1.2783, 1.2764, 1.2755, 1.2746, 1.2745, 1.2731, 1.2718, 1.2702, 1.2699, 1.2694, 1.2664, 1.2623, 1.1944, 1.1906, 1.0395, 1.0753, 1.1699, 1.0182, 1.0794, 1.0972, 0.5622, 0.7945, 1.1329, 0.5624, 0.6571, 0.8991, -0.035, 0.1213, 0.1978, -0.0527, -0.2756, -1.1426, -0.0108, 0.3614, 0.8989, 0.4413, 0.3931, 0.0134, -1.5774, -0.3398, -1.8881, -1.8315, -0.4973, 0.094]}, \"token.table\": {\"Topic\": [1, 2, 3, 4, 1, 2, 1, 2, 3, 1, 2, 3, 4, 1, 2, 3, 1, 2, 3, 1, 2, 4, 1, 2, 3, 4, 1, 2, 4, 1, 2, 4, 1, 2, 3, 1, 2, 4, 1, 2, 3, 4, 1, 2, 3, 1, 2, 3, 1, 2, 3, 1, 2, 3, 1, 2, 3, 1, 2, 3, 4, 1, 2, 3, 1, 2, 3, 4, 1, 2, 3, 4, 1, 2, 3, 1, 2, 3, 1, 2, 3, 1, 2, 3, 4, 1, 2, 4, 1, 2, 4, 1, 2, 1, 2, 3, 1, 2, 3, 1, 2, 1, 2, 3, 4, 1, 2, 1, 2, 3, 1, 2, 3, 4, 1, 2, 3, 1, 2, 4, 1, 2, 4, 1, 2, 4, 1, 2, 3, 4, 1, 2, 3, 4, 1, 2, 3, 4, 1, 2, 3, 1, 2, 3, 4, 1, 2, 4, 1, 2, 4, 1, 2, 3, 4, 1, 2, 3, 4, 1, 2, 3, 4, 1, 2, 3, 4, 1, 2, 3, 4, 1, 2, 3, 1, 2, 3, 4, 1, 2, 4, 1, 2, 4, 1, 2, 3, 4, 1, 2, 3, 4, 1, 2, 3, 4, 1, 2, 3, 4, 1, 2, 3, 4, 1, 2, 3, 1, 2, 4, 1, 2, 4, 1, 2, 3, 4, 1, 2, 3, 1, 2, 3, 4, 1, 2, 3, 4, 1, 2, 3, 4, 1, 2, 3, 1, 2, 3, 4, 1, 2, 3, 4, 1, 2, 3, 1, 2, 4, 1, 2, 3, 4, 1, 2, 3, 4, 1, 2, 3, 4, 1, 2, 3, 4, 1, 2, 3, 1, 2, 3, 4, 1, 2, 3, 1, 2, 3, 4, 1, 2, 3, 4, 1, 2, 3, 4, 1, 2, 3, 4, 1, 2, 3, 1, 2, 3, 1, 2, 1, 2, 3, 4, 1, 2, 4, 1, 2, 3, 4, 1, 2, 3, 1, 2, 3, 4, 1, 2, 3, 4, 1, 2, 3, 4, 1, 2, 4, 1, 2, 4, 1, 2, 4, 1, 2, 3, 1, 2, 3, 4, 1, 2, 3, 1, 2, 3, 4, 1, 2, 3, 4, 1, 2, 3, 4, 1, 2, 4, 1, 2, 3, 4, 1, 2, 3, 1, 2, 4, 1, 2, 3, 4, 1, 2, 3, 4, 1, 2, 3, 4, 1, 2, 3, 1, 2, 3, 1, 2, 3, 4, 1, 2, 3, 4, 1, 2, 3, 1, 2, 3, 4, 1, 2, 3, 1, 2, 3, 1, 2, 3, 4, 1, 2, 4, 1, 2, 3, 1, 2, 3, 4, 1, 2, 3, 4, 1, 2, 3, 1, 2, 3, 4, 1, 2, 3, 1, 2, 3, 4, 1, 2, 4, 1, 2, 3, 4, 1, 2, 3, 1, 2, 3, 1, 2, 3, 4, 1, 2, 4, 1, 2, 3, 1, 2, 4, 1, 2, 4, 1, 2, 3, 1, 2, 3, 4, 1, 2, 1, 2, 4, 1, 2, 3, 4, 1, 2, 3, 4, 1, 2, 3, 1, 2, 4, 1, 2, 3, 1, 2, 3, 1, 2, 4, 1, 2, 3, 4, 1, 2, 3, 4, 1, 2, 3, 4, 1, 2, 3, 4, 1, 2, 3, 1, 2, 3, 1, 2, 3, 4, 1, 2, 3, 1, 2, 4, 1, 2, 3, 4, 1, 2, 3, 4, 1, 2, 3, 4, 1, 2, 4, 1, 2, 3, 1, 2, 3, 1, 2, 1, 2, 3, 4, 1, 2, 3, 4, 1, 2, 3, 1, 2, 3, 1, 2, 3, 4, 1, 2, 3, 4, 1, 2, 4, 1, 2, 3, 4, 1, 2, 3, 1, 2, 3, 4, 1, 2, 3, 4, 1, 2, 3, 4, 1, 2, 3, 1, 2, 4, 1, 2, 3, 4, 1, 2, 3, 1, 2, 1, 2, 3, 1, 2, 3, 4, 1, 2, 4, 1, 2, 3, 4, 1, 2, 3, 4, 1, 2, 3, 1, 2, 4, 1, 2, 3, 4, 1, 2, 3, 1, 2, 3, 1, 2, 3, 4, 1, 2, 3, 4, 1, 2, 3, 4, 1, 2, 4, 1, 2, 3, 1, 2, 3, 4, 1, 2, 3, 1, 2, 3, 1, 2, 3, 1, 2, 3, 4], \"Freq\": [0.20459632342012785, 0.7160871319704474, 0.05114908085503196, 0.05114908085503196, 0.144724801762372, 0.7236240088118601, 0.7918999119587479, 0.09898748899484348, 0.09898748899484348, 0.41974472573130445, 0.29537591810721425, 0.2642837162011917, 0.031092201906022552, 0.17661948410324413, 0.35323896820648826, 0.4415487102581103, 0.7914645126690133, 0.13191075211150222, 0.13191075211150222, 0.3687560553868251, 0.3687560553868251, 0.3687560553868251, 0.15655788853357425, 0.7306034798233465, 0.05218596284452475, 0.05218596284452475, 0.8491911986972197, 0.08491911986972196, 0.08491911986972196, 0.32431841088175284, 0.32431841088175284, 0.32431841088175284, 0.15906294956385272, 0.15906294956385272, 0.6362517982554109, 0.057257920226883, 0.858868803403245, 0.057257920226883, 0.36430434535733985, 0.20817391163276563, 0.41634782326553127, 0.05204347790819141, 0.5904289313902924, 0.03578357159941166, 0.3578357159941166, 0.19212527884920783, 0.19212527884920783, 0.5763758365476235, 0.1407213571653182, 0.1407213571653182, 0.703606785826591, 0.2943113013076594, 0.2943113013076594, 0.5886226026153188, 0.2836890080771454, 0.1418445040385727, 0.5673780161542908, 0.06350128578545401, 0.8255167152109021, 0.06350128578545401, 0.06350128578545401, 0.11084018323487353, 0.33252054970462064, 0.5542009161743677, 0.09624320401248129, 0.09624320401248129, 0.5774592240748878, 0.19248640802496259, 0.18942523946559542, 0.18942523946559542, 0.5682757183967863, 0.18942523946559542, 0.7739115699373567, 0.19347789248433916, 0.04836947312108479, 0.13484686920811814, 0.2696937384162363, 0.5393874768324726, 0.13174142519253493, 0.7904485511552096, 0.04391380839751164, 0.24527091227527165, 0.4905418245505433, 0.16351394151684776, 0.10219621344802986, 0.36840395438280144, 0.36840395438280144, 0.36840395438280144, 0.3171249298670501, 0.3171249298670501, 0.3171249298670501, 0.1741261302070435, 0.696504520828174, 0.8873410251441097, 0.05915606834294065, 0.05915606834294065, 0.7123828425832734, 0.17809571064581836, 0.08904785532290918, 0.7416253438531202, 0.10594647769330287, 0.4298393512945866, 0.10745983782364665, 0.3761094323827633, 0.05372991891182333, 0.1738740063656727, 0.6954960254626908, 0.14462334190713066, 0.14462334190713066, 0.5784933676285227, 0.8080492450636141, 0.08080492450636141, 0.08080492450636141, 0.08080492450636141, 0.04928585137913606, 0.788573622066177, 0.14785755413740817, 0.36906325050153704, 0.36906325050153704, 0.36906325050153704, 0.369352177776503, 0.369352177776503, 0.369352177776503, 0.4239448615971091, 0.21197243079855455, 0.4239448615971091, 0.15050497684213485, 0.15050497684213485, 0.6020199073685394, 0.15050497684213485, 0.6040298502078745, 0.11325559691397646, 0.18875932818996077, 0.11325559691397646, 0.4791154952998459, 0.20533521227136253, 0.06844507075712083, 0.27378028302848334, 0.6931660632052763, 0.19804744663007895, 0.09902372331503947, 0.34182302401678294, 0.5058980755448388, 0.13672920960671317, 0.013672920960671318, 0.163030951945762, 0.326061903891524, 0.326061903891524, 0.2367385375252296, 0.2367385375252296, 0.4734770750504592, 0.4669513660081612, 0.45188841871757535, 0.060251789162343375, 0.015062947290585844, 0.32414004185860007, 0.10804668061953335, 0.2160933612390667, 0.32414004185860007, 0.16595521623223566, 0.3319104324644713, 0.16595521623223566, 0.3319104324644713, 0.3423075389140292, 0.3042733679235815, 0.3042733679235815, 0.07606834198089538, 0.2534883960189159, 0.12674419800945794, 0.5069767920378317, 0.12674419800945794, 0.04733109609019274, 0.8992908257136619, 0.04733109609019274, 0.7878293653488435, 0.07162085139534942, 0.07162085139534942, 0.07162085139534942, 0.27823204457140766, 0.27823204457140766, 0.27823204457140766, 0.2325778095908247, 0.2325778095908247, 0.4651556191816494, 0.521448877044878, 0.09480888673543236, 0.3318311035740133, 0.04740444336771618, 0.736513671632941, 0.04910091144219607, 0.14730273432658822, 0.04910091144219607, 0.18658509631233863, 0.5224382696745482, 0.2612191348372741, 0.03731701926246773, 0.37413961601742735, 0.561209424026141, 0.06235660266957122, 0.02078553422319041, 0.4563878970274165, 0.2738327382164499, 0.2510133433650791, 0.04563878970274165, 0.22580162366838188, 0.22580162366838188, 0.45160324733676377, 0.28594889502596477, 0.28594889502596477, 0.5718977900519295, 0.3688019943162653, 0.3688019943162653, 0.3688019943162653, 0.3680900702943672, 0.26292147878169086, 0.315505774538029, 0.05258429575633817, 0.6558770310440711, 0.1249289582941088, 0.2186256770146904, 0.8356391500013219, 0.03798359772733281, 0.07596719545466563, 0.03798359772733281, 0.6373700737251395, 0.2337023603658845, 0.06373700737251395, 0.08498267649668527, 0.40276856668193595, 0.10069214167048399, 0.50346070835242, 0.10069214167048399, 0.184336809256767, 0.184336809256767, 0.553010427770301, 0.22652635681279842, 0.22652635681279842, 0.22652635681279842, 0.45305271362559685, 0.6260689265105687, 0.26535371719653245, 0.10365379577989549, 0.0041461518311958195, 0.20426283831499306, 0.20426283831499306, 0.6127885149449792, 0.36888555464384853, 0.36888555464384853, 0.36888555464384853, 0.4208804296664778, 0.16835217186659113, 0.16835217186659113, 0.2525282577998867, 0.48658572864546773, 0.39535090452444255, 0.0912348241210252, 0.015205804020170867, 0.6762393719882401, 0.19321124913949717, 0.04830281228487429, 0.04830281228487429, 0.18902019086926783, 0.7732644171924593, 0.017183653715387985, 0.017183653715387985, 0.21013672012268286, 0.21013672012268286, 0.6304101603680486, 0.49915797552133945, 0.31525766875031963, 0.07881441718757991, 0.10508588958343988, 0.1464304594694921, 0.7321522973474605, 0.1464304594694921, 0.5143643543153467, 0.1512836336221608, 0.1512836336221608, 0.18154036034659296, 0.4947851726793351, 0.3819394315419429, 0.12152618276334547, 0.008680441625953248, 0.29593445131779733, 0.4304501110077052, 0.2690313193798157, 0.026903131937981575, 0.4332263934132883, 0.5198716720959459, 0.037133690863996136, 0.012377896954665379, 0.06450610155024897, 0.8385793201532367, 0.06450610155024897, 0.1439375883148179, 0.7196879415740896, 0.1439375883148179, 0.14336775429479637, 0.7168387714739819, 0.12127890838896888, 0.4851156335558755, 0.12127890838896888, 0.24255781677793775, 0.1895760888244002, 0.3791521776488004, 0.3791521776488004, 0.23852461281685924, 0.23852461281685924, 0.23852461281685924, 0.23852461281685924, 0.27610881377440166, 0.20708161033080122, 0.48319042410520285, 0.053964362346778906, 0.7015367105081257, 0.16189308704033673, 0.10792872469355781, 0.4346430954729065, 0.14488103182430218, 0.14488103182430218, 0.28976206364860435, 0.6460445815403684, 0.04614604153859774, 0.27687624923158644, 0.04614604153859774, 0.31970267525370394, 0.31970267525370394, 0.31970267525370394, 0.3197451335292513, 0.3197451335292513, 0.3197451335292513, 0.3693509742287067, 0.3693509742287067, 0.3693509742287067, 0.0913457551532802, 0.7307660412262416, 0.0913457551532802, 0.4782886360628161, 0.13665389601794745, 0.20498084402692118, 0.20498084402692118, 0.6668874860001399, 0.28079473094742735, 0.03509934136842842, 0.3700573567391805, 0.2960458853913444, 0.1480229426956722, 0.1480229426956722, 0.7743196795606059, 0.06733214604874833, 0.03366607302437417, 0.13466429209749667, 0.12991076092293882, 0.25982152184587765, 0.12991076092293882, 0.5196430436917553, 0.36874680548571886, 0.36874680548571886, 0.36874680548571886, 0.26519343798749667, 0.6364642511699921, 0.07955803139624901, 0.026519343798749668, 0.22594941203633512, 0.22594941203633512, 0.45189882407267024, 0.3690296725062099, 0.3690296725062099, 0.3690296725062099, 0.10201969123666478, 0.8416624527024845, 0.05100984561833239, 0.025504922809166195, 0.20129077247733076, 0.35225885183532885, 0.40258154495466153, 0.05032269311933269, 0.6000492899278321, 0.13334428665062936, 0.13334428665062936, 0.13334428665062936, 0.6183874118843785, 0.30919370594218926, 0.034354856215798805, 0.15676153558086967, 0.7838076779043484, 0.039190383895217416, 0.25104917167840807, 0.47420399094810417, 0.25104917167840807, 0.02789435240871201, 0.43636177866990705, 0.3692291973360752, 0.1342651626676637, 0.06713258133383185, 0.19380199060817632, 0.6976871661894347, 0.07752079624327052, 0.7173207276526719, 0.1887686125401768, 0.07550744501607072, 0.01887686125401768, 0.2632915032984806, 0.08776383443282687, 0.6143468410297881, 0.20797618147238953, 0.20797618147238953, 0.6239285444171686, 0.1840810410242429, 0.6749638170888906, 0.12272069401616192, 0.020453449002693653, 0.3691602204122391, 0.3691602204122391, 0.3691602204122391, 0.11996195547517388, 0.8397336883262172, 0.05998097773758694, 0.09666376123635619, 0.6766463286544933, 0.2126602747199836, 0.019332752247271236, 0.5034881637773851, 0.3524417146441696, 0.10069763275547704, 0.02517440818886926, 0.1527565880570998, 0.3055131761141996, 0.4582697641712994, 0.28719528449695936, 0.18583224290979722, 0.5237090482003376, 0.01689384026452702, 0.13173072010256287, 0.7903843206153772, 0.13173072010256287, 0.33312650860311843, 0.26650120688249473, 0.36643915946343025, 0.03331265086031184, 0.36919219998943437, 0.36919219998943437, 0.36919219998943437, 0.6430850185342222, 0.14840423504635897, 0.1758865007956847, 0.032978718899190886, 0.14438146534573212, 0.7219073267286605, 0.14438146534573212, 0.25708322669926004, 0.25708322669926004, 0.5141664533985201, 0.3492728462280383, 0.5446288449657546, 0.0887981812444165, 0.0177596362488833, 0.36805430313319937, 0.36805430313319937, 0.36805430313319937, 0.14806704844694227, 0.14806704844694227, 0.5922681937877691, 0.29091492417049397, 0.29091492417049397, 0.5818298483409879, 0.32797492786863813, 0.32797492786863813, 0.32797492786863813, 0.6941698639388733, 0.1735424659847183, 0.1735424659847183, 0.4671008960999131, 0.23355044804995656, 0.17516283603746743, 0.11677522402497828, 0.12330495183838154, 0.7398297110302892, 0.23556575586704862, 0.23556575586704862, 0.47113151173409723, 0.12037102072393226, 0.7222261243435936, 0.12037102072393226, 0.06018551036196613, 0.3930256321445928, 0.2358153792867557, 0.2358153792867557, 0.15721025285783713, 0.20330683748655695, 0.20330683748655695, 0.6099205124596708, 0.2658424606506135, 0.3987636909759203, 0.2658424606506135, 0.7392065322311048, 0.22400197946397113, 0.04480039589279423, 0.855005452728318, 0.142500908788053, 0.142500908788053, 0.8243815647635994, 0.10304769559544992, 0.10304769559544992, 0.3320564015666637, 0.5874844027717896, 0.07662840036153777, 0.02554280012051259, 0.096388589806156, 0.72291442354617, 0.048194294903078, 0.096388589806156, 0.5086039132497192, 0.45047775173546556, 0.014531540378563405, 0.021797310567845108, 0.13906923026083798, 0.8344153815650279, 0.04635641008694599, 0.04635641008694599, 0.7034221832345897, 0.21102665497037693, 0.07034221832345898, 0.18447092093869477, 0.7378836837547791, 0.061490306979564924, 0.46833132637854724, 0.4014268511816119, 0.11150745866155887, 0.014867661154874517, 0.13204680560142215, 0.2640936112028443, 0.5281872224056886, 0.17278335657454183, 0.34556671314908366, 0.34556671314908366, 0.07963939094295738, 0.7167545184866164, 0.07963939094295738, 0.07963939094295738, 0.07826012804505737, 0.8086879897989261, 0.10434683739340982, 0.026086709348352454, 0.2839703402975107, 0.2839703402975107, 0.2839703402975107, 0.2839703402975107, 0.3690365741253091, 0.3690365741253091, 0.3690365741253091, 0.10546846529607097, 0.3164053958882129, 0.5273423264803548, 0.11353265988644169, 0.7947286192050919, 0.11353265988644169, 0.15707049092371766, 0.7853524546185884, 0.4848142502499486, 0.3061984738420728, 0.1530992369210364, 0.0510330789736788, 0.11227138419336588, 0.8046115867191221, 0.07484758946224393, 0.018711897365560982, 0.8037124111168962, 0.08930137901298846, 0.08930137901298846, 0.7923747872735932, 0.09904684840919915, 0.09904684840919915, 0.3096383559153597, 0.05160639265255996, 0.5676703191781595, 0.10321278530511992, 0.7093894087598454, 0.07093894087598453, 0.07093894087598453, 0.07093894087598453, 0.25565145497105535, 0.25565145497105535, 0.5113029099421107, 0.2039939346639008, 0.6119818039917024, 0.16999494555325068, 0.033998989110650135, 0.17901733880208598, 0.7160693552083439, 0.08950866940104299, 0.3157485690900307, 0.4209980921200409, 0.052624761515005114, 0.15787428454501534, 0.22818781383112868, 0.11409390691556434, 0.45637562766225737, 0.11409390691556434, 0.08622036336812186, 0.8622036336812186, 0.08622036336812186, 0.08622036336812186, 0.2946886594869001, 0.2946886594869001, 0.5893773189738002, 0.769219408798381, 0.12820323479973017, 0.12820323479973017, 0.519441123672671, 0.08657352061211183, 0.28857840204037283, 0.11543136081614912, 0.1297042927836657, 0.1297042927836657, 0.6485214639183284, 0.7921821858138186, 0.1320303643023031, 0.23367364070359464, 0.23367364070359464, 0.7010209221107839, 0.7619776508381645, 0.03809888254190822, 0.15239553016763288, 0.03809888254190822, 0.2929277841579209, 0.2929277841579209, 0.5858555683158418, 0.602076444063176, 0.14166504566192376, 0.21249756849288562, 0.03541626141548094, 0.20855365630784, 0.542239506400384, 0.20855365630784, 0.020855365630784002, 0.2254500691637763, 0.2254500691637763, 0.4509001383275526, 0.7578637100097292, 0.10826624428710416, 0.10826624428710416, 0.7437816771550406, 0.049585445143669374, 0.14875633543100814, 0.049585445143669374, 0.20745107456739292, 0.20745107456739292, 0.6223532237021788, 0.24900498207833988, 0.6536380779556422, 0.09337686827937745, 0.411934920132742, 0.5069968247787594, 0.03168730154867246, 0.06337460309734493, 0.13150891427842226, 0.7890534856705336, 0.052603565711368906, 0.026301782855684453, 0.2783123688620485, 0.4870466455085849, 0.24352332275429245, 0.034789046107756065, 0.2626002926143753, 0.2626002926143753, 0.5252005852287506, 0.7868952794469564, 0.1430718689903557, 0.035767967247588926, 0.14750307993514836, 0.14750307993514836, 0.5900123197405934, 0.14750307993514836, 0.7405551421586796, 0.1234258570264466, 0.1234258570264466, 0.17071860944427963, 0.17071860944427963, 0.5121558283328389, 0.7821277053821692, 0.12032733928956449, 0.12032733928956449, 0.7603721215041206, 0.09504651518801507, 0.09504651518801507, 0.09504651518801507], \"Term\": [\"absolutely\", \"absolutely\", \"absolutely\", \"absolutely\", \"afternoon\", \"afternoon\", \"ago\", \"ago\", \"ago\", \"amazing\", \"amazing\", \"amazing\", \"amazing\", \"arrived\", \"arrived\", \"arrived\", \"asked\", \"asked\", \"asked\", \"asparagus\", \"asparagus\", \"asparagus\", \"atmosphere\", \"atmosphere\", \"atmosphere\", \"atmosphere\", \"authentic\", \"authentic\", \"authentic\", \"avec\", \"avec\", \"avec\", \"average\", \"average\", \"average\", \"bar\", \"bar\", \"bar\", \"beef\", \"beef\", \"beef\", \"beef\", \"best\", \"best\", \"best\", \"better\", \"better\", \"better\", \"birthday\", \"birthday\", \"birthday\", \"bottles\", \"bottles\", \"bottles\", \"bourguignon\", \"bourguignon\", \"bourguignon\", \"breakfast\", \"breakfast\", \"breakfast\", \"breakfast\", \"brunch\", \"brunch\", \"brunch\", \"burger\", \"burger\", \"burger\", \"burger\", \"burgers\", \"burgers\", \"burgers\", \"burgers\", \"busy\", \"busy\", \"busy\", \"caf\", \"caf\", \"caf\", \"cafe\", \"cafe\", \"cafe\", \"came\", \"came\", \"came\", \"came\", \"cash\", \"cash\", \"cash\", \"ce\", \"ce\", \"ce\", \"centre\", \"centre\", \"chez\", \"chez\", \"chez\", \"city\", \"city\", \"city\", \"closed\", \"closed\", \"come\", \"come\", \"come\", \"come\", \"concept\", \"concept\", \"cooked\", \"cooked\", \"cooked\", \"couple\", \"couple\", \"couple\", \"couple\", \"cozy\", \"cozy\", \"cozy\", \"credit\", \"credit\", \"credit\", \"crocs\", \"crocs\", \"crocs\", \"crowded\", \"crowded\", \"crowded\", \"daughter\", \"daughter\", \"daughter\", \"daughter\", \"day\", \"day\", \"day\", \"day\", \"de\", \"de\", \"de\", \"de\", \"definitely\", \"definitely\", \"definitely\", \"delicious\", \"delicious\", \"delicious\", \"delicious\", \"des\", \"des\", \"des\", \"dim\", \"dim\", \"dim\", \"dinner\", \"dinner\", \"dinner\", \"dinner\", \"du\", \"du\", \"du\", \"du\", \"early\", \"early\", \"early\", \"early\", \"eat\", \"eat\", \"eat\", \"eat\", \"eating\", \"eating\", \"eating\", \"eating\", \"english\", \"english\", \"english\", \"escargot\", \"escargot\", \"escargot\", \"escargot\", \"est\", \"est\", \"est\", \"et\", \"et\", \"et\", \"ever\", \"ever\", \"ever\", \"ever\", \"every\", \"every\", \"every\", \"every\", \"everything\", \"everything\", \"everything\", \"everything\", \"excellent\", \"excellent\", \"excellent\", \"excellent\", \"experience\", \"experience\", \"experience\", \"experience\", \"exquisite\", \"exquisite\", \"exquisite\", \"eyes\", \"eyes\", \"eyes\", \"face\", \"face\", \"face\", \"fantastic\", \"fantastic\", \"fantastic\", \"fantastic\", \"favorite\", \"favorite\", \"favorite\", \"find\", \"find\", \"find\", \"find\", \"first\", \"first\", \"first\", \"first\", \"fish\", \"fish\", \"fish\", \"fish\", \"flavor\", \"flavor\", \"flavor\", \"fois\", \"fois\", \"fois\", \"fois\", \"food\", \"food\", \"food\", \"food\", \"foods\", \"foods\", \"foods\", \"forgotten\", \"forgotten\", \"forgotten\", \"france\", \"france\", \"france\", \"france\", \"french\", \"french\", \"french\", \"french\", \"friend\", \"friend\", \"friend\", \"friend\", \"friendly\", \"friendly\", \"friendly\", \"friendly\", \"generous\", \"generous\", \"generous\", \"get\", \"get\", \"get\", \"get\", \"glass\", \"glass\", \"glass\", \"go\", \"go\", \"go\", \"go\", \"good\", \"good\", \"good\", \"good\", \"got\", \"got\", \"got\", \"got\", \"great\", \"great\", \"great\", \"great\", \"helpful\", \"helpful\", \"helpful\", \"home\", \"home\", \"home\", \"host\", \"host\", \"hot\", \"hot\", \"hot\", \"hot\", \"hours\", \"hours\", \"hours\", \"il\", \"il\", \"il\", \"il\", \"incredible\", \"incredible\", \"incredible\", \"inside\", \"inside\", \"inside\", \"inside\", \"intimate\", \"intimate\", \"intimate\", \"intimate\", \"ive\", \"ive\", \"ive\", \"ive\", \"jai\", \"jai\", \"jai\", \"jardin\", \"jardin\", \"jardin\", \"je\", \"je\", \"je\", \"know\", \"know\", \"know\", \"la\", \"la\", \"la\", \"la\", \"last\", \"last\", \"last\", \"late\", \"late\", \"late\", \"late\", \"le\", \"le\", \"le\", \"le\", \"les\", \"les\", \"les\", \"les\", \"lettuce\", \"lettuce\", \"lettuce\", \"like\", \"like\", \"like\", \"like\", \"limited\", \"limited\", \"limited\", \"lion\", \"lion\", \"lion\", \"little\", \"little\", \"little\", \"little\", \"location\", \"location\", \"location\", \"location\", \"long\", \"long\", \"long\", \"long\", \"looking\", \"looking\", \"looking\", \"lovely\", \"lovely\", \"lovely\", \"lunch\", \"lunch\", \"lunch\", \"lunch\", \"made\", \"made\", \"made\", \"made\", \"make\", \"make\", \"make\", \"meal\", \"meal\", \"meal\", \"meal\", \"meals\", \"meals\", \"meals\", \"medium\", \"medium\", \"medium\", \"menu\", \"menu\", \"menu\", \"menu\", \"muy\", \"muy\", \"muy\", \"neighborhood\", \"neighborhood\", \"neighborhood\", \"nice\", \"nice\", \"nice\", \"nice\", \"night\", \"night\", \"night\", \"night\", \"ok\", \"ok\", \"ok\", \"one\", \"one\", \"one\", \"one\", \"options\", \"options\", \"options\", \"ordered\", \"ordered\", \"ordered\", \"ordered\", \"ou\", \"ou\", \"ou\", \"paris\", \"paris\", \"paris\", \"paris\", \"patio\", \"patio\", \"patio\", \"perfectly\", \"perfectly\", \"perfectly\", \"place\", \"place\", \"place\", \"place\", \"porte\", \"porte\", \"porte\", \"portions\", \"portions\", \"portions\", \"pot\", \"pot\", \"pot\", \"pour\", \"pour\", \"pour\", \"poutine\", \"poutine\", \"poutine\", \"pretty\", \"pretty\", \"pretty\", \"pretty\", \"quaint\", \"quaint\", \"que\", \"que\", \"que\", \"quick\", \"quick\", \"quick\", \"quick\", \"quite\", \"quite\", \"quite\", \"quite\", \"rare\", \"rare\", \"rare\", \"reading\", \"reading\", \"reading\", \"really\", \"really\", \"really\", \"recent\", \"recent\", \"recent\", \"recommendation\", \"recommendation\", \"recommendation\", \"reservation\", \"reservation\", \"reservation\", \"reservation\", \"reservations\", \"reservations\", \"reservations\", \"reservations\", \"restaurant\", \"restaurant\", \"restaurant\", \"restaurant\", \"right\", \"right\", \"right\", \"right\", \"say\", \"say\", \"say\", \"server\", \"server\", \"server\", \"service\", \"service\", \"service\", \"service\", \"several\", \"several\", \"several\", \"show\", \"show\", \"show\", \"sit\", \"sit\", \"sit\", \"sit\", \"small\", \"small\", \"small\", \"small\", \"soon\", \"soon\", \"soon\", \"soon\", \"sot\", \"sot\", \"sot\", \"space\", \"space\", \"space\", \"speak\", \"speak\", \"speak\", \"spoke\", \"spoke\", \"spot\", \"spot\", \"spot\", \"spot\", \"staff\", \"staff\", \"staff\", \"staff\", \"stars\", \"stars\", \"stars\", \"stay\", \"stay\", \"stay\", \"steak\", \"steak\", \"steak\", \"steak\", \"still\", \"still\", \"still\", \"still\", \"sum\", \"sum\", \"sum\", \"super\", \"super\", \"super\", \"super\", \"sure\", \"sure\", \"sure\", \"table\", \"table\", \"table\", \"table\", \"tartare\", \"tartare\", \"tartare\", \"tartare\", \"tasting\", \"tasting\", \"tasting\", \"tasting\", \"tender\", \"tender\", \"tender\", \"thai\", \"thai\", \"thai\", \"time\", \"time\", \"time\", \"time\", \"took\", \"took\", \"took\", \"tourists\", \"tourists\", \"treated\", \"treated\", \"treated\", \"trip\", \"trip\", \"trip\", \"trip\", \"trs\", \"trs\", \"trs\", \"try\", \"try\", \"try\", \"try\", \"us\", \"us\", \"us\", \"us\", \"veggie\", \"veggie\", \"veggie\", \"walked\", \"walked\", \"walked\", \"wanted\", \"wanted\", \"wanted\", \"wanted\", \"water\", \"water\", \"water\", \"well\", \"well\", \"well\", \"went\", \"went\", \"went\", \"went\", \"wine\", \"wine\", \"wine\", \"wine\", \"wonderful\", \"wonderful\", \"wonderful\", \"wonderful\", \"wont\", \"wont\", \"wont\", \"would\", \"would\", \"would\", \"wouldnt\", \"wouldnt\", \"wouldnt\", \"wouldnt\", \"wow\", \"wow\", \"wow\", \"wrong\", \"wrong\", \"wrong\", \"years\", \"years\", \"years\", \"yes\", \"yes\", \"yes\", \"yes\"]}, \"R\": 30, \"lambda.step\": 0.01, \"plot.opts\": {\"xlab\": \"PC1\", \"ylab\": \"PC2\"}, \"topic.order\": [3, 2, 4, 1]};\n",
       "\n",
       "function LDAvis_load_lib(url, callback){\n",
       "  var s = document.createElement('script');\n",
       "  s.src = url;\n",
       "  s.async = true;\n",
       "  s.onreadystatechange = s.onload = callback;\n",
       "  s.onerror = function(){console.warn(\"failed to load library \" + url);};\n",
       "  document.getElementsByTagName(\"head\")[0].appendChild(s);\n",
       "}\n",
       "\n",
       "if(typeof(LDAvis) !== \"undefined\"){\n",
       "   // already loaded: just create the visualization\n",
       "   !function(LDAvis){\n",
       "       new LDAvis(\"#\" + \"ldavis_el1142416752418416963527722820\", ldavis_el1142416752418416963527722820_data);\n",
       "   }(LDAvis);\n",
       "}else if(typeof define === \"function\" && define.amd){\n",
       "   // require.js is available: use it to load d3/LDAvis\n",
       "   require.config({paths: {d3: \"https://d3js.org/d3.v5\"}});\n",
       "   require([\"d3\"], function(d3){\n",
       "      window.d3 = d3;\n",
       "      LDAvis_load_lib(\"https://cdn.jsdelivr.net/gh/bmabey/pyLDAvis@3.4.0/pyLDAvis/js/ldavis.v3.0.0.js\", function(){\n",
       "        new LDAvis(\"#\" + \"ldavis_el1142416752418416963527722820\", ldavis_el1142416752418416963527722820_data);\n",
       "      });\n",
       "    });\n",
       "}else{\n",
       "    // require.js not available: dynamically load d3 & LDAvis\n",
       "    LDAvis_load_lib(\"https://d3js.org/d3.v5.js\", function(){\n",
       "         LDAvis_load_lib(\"https://cdn.jsdelivr.net/gh/bmabey/pyLDAvis@3.4.0/pyLDAvis/js/ldavis.v3.0.0.js\", function(){\n",
       "                 new LDAvis(\"#\" + \"ldavis_el1142416752418416963527722820\", ldavis_el1142416752418416963527722820_data);\n",
       "            })\n",
       "         });\n",
       "}\n",
       "</script>"
      ],
      "text/plain": [
       "<IPython.core.display.HTML object>"
      ]
     },
     "execution_count": 36,
     "metadata": {},
     "output_type": "execute_result"
    }
   ],
   "source": [
    "import gensim\n",
    "import pyLDAvis.gensim_models as gensimvis\n",
    "import pyLDAvis\n",
    "\n",
    "# Création du modèle LDA avec la meilleure combinaison de cohérence (alpha=0.5, beta=1)\n",
    "lda_model_best = gensim.models.LdaMulticore(corpus, num_topics=4, id2word=dictionary, passes=10, alpha=0.5, eta=1)\n",
    "\n",
    "# Préparation des données pour pyLDAvis\n",
    "lda_vis = gensimvis.prepare(lda_model_best, corpus, dictionary)\n",
    "\n",
    "# Affichage de la visualisation\n",
    "pyLDAvis.display(lda_vis)\n"
   ]
  },
  {
   "cell_type": "code",
   "execution_count": 43,
   "metadata": {},
   "outputs": [],
   "source": [
    "from sklearn.feature_extraction.text import TfidfVectorizer\n",
    "\n",
    "# Joindre les tokens pour TF-IDF\n",
    "processed_texts = [\" \".join(doc) for doc in processed_docs]\n",
    "\n",
    "# Créer la matrice TF-IDF\n",
    "tfidf_vectorizer = TfidfVectorizer(max_df=0.95, min_df=2)\n",
    "tfidf = tfidf_vectorizer.fit_transform(processed_texts)\n"
   ]
  },
  {
   "cell_type": "code",
   "execution_count": 48,
   "metadata": {},
   "outputs": [
    {
     "name": "stdout",
     "output_type": "stream",
     "text": [
      "Topic #0:\n",
      "great food service delicious amazing excellent ambiance wine recommend experience\n",
      "Topic #1:\n",
      "paris restaurant place one dinner first meal reservation best time\n",
      "Topic #2:\n",
      "good friendly staff nice place really food french like menu\n"
     ]
    }
   ],
   "source": [
    "from sklearn.decomposition import NMF\n",
    "\n",
    "# Nombre de sujets\n",
    "n_topics = 3\n",
    "\n",
    "# Création du modèle NMF\n",
    "nmf_model = NMF(n_components=n_topics, random_state=123)\n",
    "nmf_W = nmf_model.fit_transform(tfidf)\n",
    "nmf_H = nmf_model.components_\n",
    "\n",
    "# Afficher les sujets et leurs mots clés\n",
    "feature_names = tfidf_vectorizer.get_feature_names_out()\n",
    "for topic_idx, topic in enumerate(nmf_H):\n",
    "    print(f\"Topic #{topic_idx}:\")\n",
    "    print(\" \".join([feature_names[i] for i in topic.argsort()[:-10 - 1:-1]]))\n"
   ]
  },
  {
   "cell_type": "code",
   "execution_count": null,
   "metadata": {},
   "outputs": [],
   "source": []
  },
  {
   "cell_type": "code",
   "execution_count": null,
   "metadata": {},
   "outputs": [],
   "source": []
  },
  {
   "cell_type": "code",
   "execution_count": null,
   "metadata": {},
   "outputs": [],
   "source": []
  },
  {
   "cell_type": "code",
   "execution_count": null,
   "metadata": {},
   "outputs": [],
   "source": []
  }
 ],
 "metadata": {
  "kernelspec": {
   "display_name": "Python 3",
   "language": "python",
   "name": "python3"
  },
  "language_info": {
   "codemirror_mode": {
    "name": "ipython",
    "version": 3
   },
   "file_extension": ".py",
   "mimetype": "text/x-python",
   "name": "python",
   "nbconvert_exporter": "python",
   "pygments_lexer": "ipython3",
   "version": "3.11.6"
  }
 },
 "nbformat": 4,
 "nbformat_minor": 2
}
