{
 "cells": [
  {
   "cell_type": "code",
   "execution_count": null,
   "metadata": {},
   "outputs": [],
   "source": []
  },
  {
   "cell_type": "code",
   "execution_count": null,
   "metadata": {},
   "outputs": [],
   "source": []
  },
  {
   "cell_type": "code",
   "execution_count": null,
   "metadata": {},
   "outputs": [],
   "source": []
  },
  {
   "cell_type": "code",
   "execution_count": null,
   "metadata": {},
   "outputs": [],
   "source": []
  },
  {
   "cell_type": "markdown",
   "metadata": {},
   "source": [
    "## GPT2"
   ]
  },
  {
   "cell_type": "code",
   "execution_count": 2,
   "metadata": {},
   "outputs": [
    {
     "name": "stderr",
     "output_type": "stream",
     "text": [
      "c:\\Users\\sraps\\AppData\\Local\\Programs\\Python\\Python311\\Lib\\site-packages\\tqdm\\auto.py:21: TqdmWarning: IProgress not found. Please update jupyter and ipywidgets. See https://ipywidgets.readthedocs.io/en/stable/user_install.html\n",
      "  from .autonotebook import tqdm as notebook_tqdm\n"
     ]
    }
   ],
   "source": [
    "import pandas as pd\n",
    "from transformers import pipeline, set_seed\n",
    "\n",
    "# Configuration pour assurer la reproductibilité lors de la génération de texte\n",
    "set_seed(123)\n",
    "\n",
    "data = {\n",
    "    'business_id': ['123', '123', '456', '456', '456'],\n",
    "    'text': [\n",
    "        \"Great service but the food was bland.\",\n",
    "        \"Loved the ambiance and the dessert, but the main course was too salty.\",\n",
    "        \"The waiter was rude.\",\n",
    "        \"The steak was fantastic, but the room was too noisy.\",\n",
    "        \"Amazing cocktails and friendly staff, but the price is too high.\"\n",
    "    ]\n",
    "}\n",
    "\n",
    "df = pd.DataFrame(data)\n"
   ]
  },
  {
   "cell_type": "code",
   "execution_count": 3,
   "metadata": {},
   "outputs": [
    {
     "name": "stderr",
     "output_type": "stream",
     "text": [
      "Setting `pad_token_id` to `eos_token_id`:50256 for open-end generation.\n",
      "Setting `pad_token_id` to `eos_token_id`:50256 for open-end generation.\n"
     ]
    },
    {
     "name": "stdout",
     "output_type": "stream",
     "text": [
      "Business ID: 123\n",
      "Insights:\n",
      "Here are some customer reviews on a restaurant deduct the restaurant's asset's.\n",
      "\n",
      "Great service but the food was bland. Loved the ambiance and the dessert, but the main course was too salty.\n",
      "\n",
      "\n",
      "Great menu, great food! The service was good, the seating was good, the food was good, the drink is good, the waiters were friendly, and the staff was nice. We would highly recommend this place to anybody. If you live in the Bay Area they're not so bad either.\n",
      "\n",
      "\n",
      "Very nice menu, good service but service was very slow. I guess this restaurant is a newbie to the business, and they just want to try and make an honest effort to make the customer happy :) but the waiter and waitress who work in the front office did help a lot when I arrived and didn't take care of things really quickly.\n",
      "\n",
      "\n",
      "Great experience at a great restaurant in Oakland. I would like to think that the food was fresh and fresh and delicious because that usually means that the service was fine just wait for time, get it a place that works. Great place that will do good job with your order.\n",
      "\n",
      "\n",
      "So good! I ordered the \"Luna Bar\", for which they said\n",
      "\n",
      "Business ID: 456\n",
      "Insights:\n",
      "Here are some customer reviews on a restaurant deduct the restaurant's asset's.\n",
      "\n",
      "The waiter was rude. The steak was fantastic, but the room was too noisy. Amazing cocktails and friendly staff, but the price is too high.\n",
      "\n",
      "\n",
      "The place to meet you is amazing in the kitchen you have to leave at a specific time and after several reservations, you have to leave. If we went there, we'd be leaving the entire place at 10pm. Unfortunately though, there was no parking available and the restaurant was packed.\n",
      "\n",
      "\n",
      "I ordered the shrimp tacos which you can see above. I don't know where it is, but they serve it in Spanish. There were two to choose from. The green hare and the red hare. The fish tacos were amazing. I ordered the fried chicken which was cooked very well and the fish taco was fantastic too but the shrimp was too soft and fried. When I ordered the fried chicken I wasn't sure which had the better taste due to the texture. The other meal was super good and really was fast. I really appreciate the staff and wait staff for good service.\n",
      "\n",
      "So, this is the restaurant that gets my food. This was by far the fastest and most expensive way\n",
      "\n"
     ]
    }
   ],
   "source": [
    "# Initialiser le modèle GPT-2 \n",
    "generator = pipeline('text-generation', model='gpt2')\n",
    "def generate_insights(reviews):\n",
    "    combined_reviews = \" \".join(reviews)\n",
    "    prompt = (f\"Here are some customer reviews on a restaurant deduct the restaurant's asset's.\\n\\n{combined_reviews}\\n\\n\")\n",
    "    \n",
    "    summary = generator(prompt,max_length=250, num_return_sequences=1)\n",
    "    return summary[0]['generated_text']\n",
    "# Grouper les avis par 'business_id'\n",
    "grouped_reviews = df.groupby('business_id')['text'].apply(list)\n",
    "# Générer des insights pour chaque groupe d'avis\n",
    "insights_by_business = grouped_reviews.apply(generate_insights)\n",
    "# Afficher les insights\n",
    "for business_id, insights in insights_by_business.items():\n",
    "    print(f\"Business ID: {business_id}\\nInsights:\\n{insights}\\n\")\n"
   ]
  },
  {
   "cell_type": "code",
   "execution_count": 40,
   "metadata": {},
   "outputs": [
    {
     "name": "stderr",
     "output_type": "stream",
     "text": [
      "Setting `pad_token_id` to `eos_token_id`:50256 for open-end generation.\n",
      "Setting `pad_token_id` to `eos_token_id`:50256 for open-end generation.\n"
     ]
    },
    {
     "name": "stdout",
     "output_type": "stream",
     "text": [
      "Business ID: 123\n",
      "Insights:\n",
      "Based on the following customer reviews, identify the key strengths and weaknesses of the restaurant:\n",
      "\n",
      "Great service but the food was bland. Loved the ambiance and the dessert, but the main course was too salty.\n",
      "\n",
      "Strengths:\n",
      "- Weaknesses:\n",
      "\n",
      "- We don't like to go out to our own place and then get our hands dirty on our food until we can't enjoy ourselves again.\n",
      "\n",
      "- No side-tasting\n",
      "\n",
      "- Slow serving method\n",
      "\n",
      "Frequent customer feedback and suggestions to improve the menu for all of the customers.\n",
      "\n",
      "All reviews are written in Korean language and are considered to be representative of the Korean-language company's work.\n",
      "\n",
      "Read More\n",
      "\n",
      "Business ID: 456\n",
      "Insights:\n",
      "Based on the following customer reviews, identify the key strengths and weaknesses of the restaurant:\n",
      "\n",
      "The waiter was rude. The steak was fantastic, but the room was too noisy. Amazing cocktails and friendly staff, but the price is too high.\n",
      "\n",
      "Strengths:\n",
      "- Weaknesses:\n",
      "\n",
      "- The staff of C-I-N-O are really nice - a little like the waitstaff in Tijuana at least. However, when there was a very short service, you should still ask where you came from. Sometimes this kind of rude service seems to kill you.\n",
      "\n",
      "- The service was well executed. We were on the table with four people, and I got a drink, which I felt was appropriate for the size of the restaurant, so we ordered a glass of the wine, and then waited. I also enjoyed the wine in the wine glass. The waiter was a little rude so we got an email from him telling us that we were told to look for a reservation, but that we shouldn't take our order with him. I'm a big fan of the staff in small businesses and this was the first time I had come here.\n",
      "\n",
      "- Food wasn't great. The food was pretty good,\n",
      "\n"
     ]
    }
   ],
   "source": [
    "def generate_insights(reviews):\n",
    "    combined_reviews = \" \".join(reviews[:5])  # Limiter le nombre d'avis\n",
    "    prompt = (f\"Based on the following customer reviews, identify the key strengths and weaknesses of the restaurant:\\n\\n{combined_reviews}\\n\\nStrengths:\\n- Weaknesses:\")\n",
    "    \n",
    "    summary = generator(prompt, max_length=250, num_return_sequences=1)\n",
    "    return summary[0]['generated_text']\n",
    "\n",
    "# Grouper les avis par 'business_id'\n",
    "grouped_reviews = df.groupby('business_id')['text'].apply(list)\n",
    "\n",
    "# Générer des insights pour chaque groupe d'avis\n",
    "insights_by_business = grouped_reviews.apply(generate_insights)\n",
    "\n",
    "# Afficher les insights\n",
    "for business_id, insights in insights_by_business.items():\n",
    "    print(f\"Business ID: {business_id}\\nInsights:\\n{insights}\\n\")\n"
   ]
  },
  {
   "cell_type": "markdown",
   "metadata": {},
   "source": [
    "## Dialo GPT"
   ]
  },
  {
   "cell_type": "code",
   "execution_count": 37,
   "metadata": {},
   "outputs": [
    {
     "name": "stderr",
     "output_type": "stream",
     "text": [
      "tokenizer_config.json: 100%|██████████| 26.0/26.0 [00:00<00:00, 13.0kB/s]\n",
      "c:\\Users\\sraps\\AppData\\Local\\Programs\\Python\\Python311\\Lib\\site-packages\\huggingface_hub\\file_download.py:149: UserWarning: `huggingface_hub` cache-system uses symlinks by default to efficiently store duplicated files but your machine does not support them in C:\\Users\\sraps\\.cache\\huggingface\\hub\\models--microsoft--DialoGPT-large. Caching files will still work but in a degraded version that might require more space on your disk. This warning can be disabled by setting the `HF_HUB_DISABLE_SYMLINKS_WARNING` environment variable. For more details, see https://huggingface.co/docs/huggingface_hub/how-to-cache#limitations.\n",
      "To support symlinks on Windows, you either need to activate Developer Mode or to run Python as an administrator. In order to see activate developer mode, see this article: https://docs.microsoft.com/en-us/windows/apps/get-started/enable-your-device-for-development\n",
      "  warnings.warn(message)\n",
      "config.json: 100%|██████████| 642/642 [00:00<?, ?B/s] \n",
      "vocab.json: 100%|██████████| 1.04M/1.04M [00:00<00:00, 2.71MB/s]\n",
      "merges.txt: 100%|██████████| 456k/456k [00:00<00:00, 5.20MB/s]\n",
      "pytorch_model.bin: 100%|██████████| 1.75G/1.75G [01:37<00:00, 17.9MB/s]\n",
      "generation_config.json: 100%|██████████| 124/124 [00:00<00:00, 62.0kB/s]\n"
     ]
    }
   ],
   "source": [
    "from transformers import AutoModelForCausalLM, AutoTokenizer, pipeline\n",
    "\n",
    "# Charger le tokenizer et le modèle\n",
    "tokenizer = AutoTokenizer.from_pretrained(\"microsoft/DialoGPT-large\")\n",
    "model = AutoModelForCausalLM.from_pretrained(\"microsoft/DialoGPT-large\")\n",
    "\n",
    "# Initialiser la pipeline de génération de texte\n",
    "dialogue_generator = pipeline('text-generation', model=model, tokenizer=tokenizer)\n",
    "\n",
    "def generate_dialogue_insights(reviews):\n",
    "    combined_reviews = \" \".join(reviews[:5])  \n",
    "    prompt = (\n",
    "        f\"Customer Reviews: {combined_reviews}\\n\"\n",
    "        f\"AI: Based on these reviews, the key weaknesses of the restaurant are :\"\n",
    "    )\n",
    "\n",
    "    # Générer une réponse basée sur les avis\n",
    "    generated_response = dialogue_generator(prompt, max_length=200, num_return_sequences=1)\n",
    "    return generated_response[0]['generated_text']\n"
   ]
  },
  {
   "cell_type": "code",
   "execution_count": 38,
   "metadata": {},
   "outputs": [
    {
     "name": "stderr",
     "output_type": "stream",
     "text": [
      "Setting `pad_token_id` to `eos_token_id`:50256 for open-end generation.\n",
      "Setting `pad_token_id` to `eos_token_id`:50256 for open-end generation.\n"
     ]
    },
    {
     "name": "stdout",
     "output_type": "stream",
     "text": [
      "Business ID: 123\n",
      "Insights:\n",
      "Customer Reviews: Great service but the food was bland. Loved the ambiance and the dessert, but the main course was too salty.\n",
      "AI: Based on these reviews, the key weaknesses of the restaurant are : 1. Saltiness 2. Saltiness 3. Saltiness 4. Saltiness 5. Saltiness 6. Saltiness 7. Saltiness 8. Saltiness 9. Saltiness\n",
      "\n",
      "Business ID: 456\n",
      "Insights:\n",
      "Customer Reviews: The waiter was rude. The steak was fantastic, but the room was too noisy. Amazing cocktails and friendly staff, but the price is too high.\n",
      "AI: Based on these reviews, the key weaknesses of the restaurant are : 1. The food is not great 2. The service is not great\n",
      "\n"
     ]
    }
   ],
   "source": [
    "\n",
    "# Grouper les avis par 'business_id' et générer des insights\n",
    "grouped_reviews = df.groupby('business_id')['text'].apply(list)\n",
    "insights_by_business = grouped_reviews.apply(generate_dialogue_insights)\n",
    "\n",
    "# Affichage des insights\n",
    "for business_id, insights in insights_by_business.items():\n",
    "    print(f\"Business ID: {business_id}\\nInsights:\\n{insights}\\n\")\n"
   ]
  },
  {
   "cell_type": "code",
   "execution_count": null,
   "metadata": {},
   "outputs": [],
   "source": []
  },
  {
   "cell_type": "code",
   "execution_count": 68,
   "metadata": {},
   "outputs": [
    {
     "data": {
      "image/png": "[encoded data removed]",
      "text/plain": [
       "<Figure size 1000x600 with 1 Axes>"
      ]
     },
     "metadata": {},
     "output_type": "display_data"
    }
   ],
   "source": [
    "if 'label' in review_df.columns and 'sentiment_vader' in review_df.columns:\n",
    "    # Créer un dictionnaire pour mapper les labels numériques aux étiquettes de sentiment\n",
    "    label_map = {0: 'negative', 1: 'neutral', 2: 'positive'}\n",
    "    review_df['label_mapped'] = review_df['label'].map(label_map)\n",
    "\n",
    "    # Préparer les données pour la visualisation\n",
    "    label_counts = review_df['label_mapped'].value_counts()\n",
    "    vader_counts = review_df['sentiment_vader'].value_counts()\n",
    "\n",
    "    # Tracer le graphique\n",
    "    plt.figure(figsize=(10, 6))\n",
    "    sns.barplot(x=label_counts.index, y=label_counts.values, label='Labels')\n",
    "    sns.barplot(x=vader_counts.index, y=vader_counts.values, label='Vader Sentiment', alpha=0.6)\n",
    "    plt.title(\"Comparaison entre les labels et le sentiment Vader\")\n",
    "    plt.ylabel(\"Nombre d'observations\")\n",
    "    plt.legend()\n",
    "    plt.show()\n",
    "else:\n",
    "    print(\"Les colonnes nécessaires ne sont pas présentes dans le DataFrame.\")"
   ]
  },
  {
   "cell_type": "code",
   "execution_count": 60,
   "metadata": {},
   "outputs": [
    {
     "data": {
      "image/png": "[encoded data removed]",
      "text/plain": [
       "<Figure size 1000x500 with 1 Axes>"
      ]
     },
     "metadata": {},
     "output_type": "display_data"
    }
   ],
   "source": []
  },
  {
   "cell_type": "code",
   "execution_count": 62,
   "metadata": {},
   "outputs": [
    {
     "data": {
      "text/html": [
       "<div>\n",
       "<style scoped>\n",
       "    .dataframe tbody tr th:only-of-type {\n",
       "        vertical-align: middle;\n",
       "    }\n",
       "\n",
       "    .dataframe tbody tr th {\n",
       "        vertical-align: top;\n",
       "    }\n",
       "\n",
       "    .dataframe thead th {\n",
       "        text-align: right;\n",
       "    }\n",
       "</style>\n",
       "<table border=\"1\" class=\"dataframe\">\n",
       "  <thead>\n",
       "    <tr style=\"text-align: right;\">\n",
       "      <th></th>\n",
       "      <th>business_id</th>\n",
       "      <th>review_id</th>\n",
       "      <th>text</th>\n",
       "      <th>rating</th>\n",
       "      <th>time_created</th>\n",
       "      <th>user_id</th>\n",
       "      <th>corrected_text</th>\n",
       "      <th>translated_text</th>\n",
       "      <th>sentiment_vader</th>\n",
       "      <th>sentiment_tokenizer</th>\n",
       "      <th>preprocessed_text</th>\n",
       "      <th>Topic_Title</th>\n",
       "      <th>label</th>\n",
       "    </tr>\n",
       "  </thead>\n",
       "  <tbody>\n",
       "    <tr>\n",
       "      <th>0</th>\n",
       "      <td>-0iLH7iQNYtoURciDpJf6w</td>\n",
       "      <td>sxEFkJ89kyF-wMDUI2ZnWw</td>\n",
       "      <td>Based on the menu presented, one could write a...</td>\n",
       "      <td>5</td>\n",
       "      <td>2023-12-29 23:14:16</td>\n",
       "      <td>CuqQtIpX7ZMViDuzRXxr9g</td>\n",
       "      <td>Based on the menu presented, one could write a...</td>\n",
       "      <td>Based on the menu presented, one could write a...</td>\n",
       "      <td>positive</td>\n",
       "      <td>positive</td>\n",
       "      <td>base menu present write glow review classiques...</td>\n",
       "      <td>Food with Reservation</td>\n",
       "      <td>2</td>\n",
       "    </tr>\n",
       "    <tr>\n",
       "      <th>1</th>\n",
       "      <td>-0iLH7iQNYtoURciDpJf6w</td>\n",
       "      <td>n3lGqJHkjPc6SVDHOVbSNw</td>\n",
       "      <td>I like this place but it does feel a little bi...</td>\n",
       "      <td>4</td>\n",
       "      <td>2024-01-03 09:01:14</td>\n",
       "      <td>7e7hA-2b6LJV_ywPYEUO1w</td>\n",
       "      <td>I like this place but it does feel a little bi...</td>\n",
       "      <td>I like this place but it does feel a little bi...</td>\n",
       "      <td>positive</td>\n",
       "      <td>positive</td>\n",
       "      <td>place feel little bit tourist trap people din ...</td>\n",
       "      <td>Recommended about Food &amp; Service</td>\n",
       "      <td>2</td>\n",
       "    </tr>\n",
       "    <tr>\n",
       "      <th>2</th>\n",
       "      <td>-0iLH7iQNYtoURciDpJf6w</td>\n",
       "      <td>3MYKaD-tDrUVhRgDh9G4dA</td>\n",
       "      <td>If you love French OnIon Soup, this is for you...</td>\n",
       "      <td>5</td>\n",
       "      <td>2023-12-14 13:59:59</td>\n",
       "      <td>DE6hz6gzrq67IYwH7Rh6Zg</td>\n",
       "      <td>If you love French OnIon Soup, this is for you...</td>\n",
       "      <td>If you love French OnIon Soup, this is for you...</td>\n",
       "      <td>positive</td>\n",
       "      <td>positive</td>\n",
       "      <td>love french onion soup try comptoir la gastron...</td>\n",
       "      <td>Food with Reservation</td>\n",
       "      <td>2</td>\n",
       "    </tr>\n",
       "    <tr>\n",
       "      <th>3</th>\n",
       "      <td>IU9_wVOGBKjfqTTpAXpKcQ</td>\n",
       "      <td>PJuWhEzKFz3ipwhOcWMMBA</td>\n",
       "      <td>Came here with my daughter, son inlaw  his mom...</td>\n",
       "      <td>5</td>\n",
       "      <td>2023-09-22 09:36:00</td>\n",
       "      <td>dgBw2bNmgCDM21n7vKET1w</td>\n",
       "      <td>Came here with my daughter, son in law, his mo...</td>\n",
       "      <td>Came here with my daughter, son inlaw  his mom...</td>\n",
       "      <td>positive</td>\n",
       "      <td>negative</td>\n",
       "      <td>daughter son inlaw mom gratin delicious table ...</td>\n",
       "      <td>French Food</td>\n",
       "      <td>2</td>\n",
       "    </tr>\n",
       "    <tr>\n",
       "      <th>4</th>\n",
       "      <td>IU9_wVOGBKjfqTTpAXpKcQ</td>\n",
       "      <td>T2k7VQB-TFkzkaEXRDfwYw</td>\n",
       "      <td>This tiny eatery along the Seine on the left b...</td>\n",
       "      <td>5</td>\n",
       "      <td>2024-01-08 16:55:09</td>\n",
       "      <td>kmSmVVb_XOpYnxSq7qns8w</td>\n",
       "      <td>This tiny eatery along the Seine on the left b...</td>\n",
       "      <td>This tiny eatery along the Seine on the left b...</td>\n",
       "      <td>positive</td>\n",
       "      <td>positive</td>\n",
       "      <td>tiny eatery along seine leave bank best gratin...</td>\n",
       "      <td>Restaurant for Dinner</td>\n",
       "      <td>2</td>\n",
       "    </tr>\n",
       "  </tbody>\n",
       "</table>\n",
       "</div>"
      ],
      "text/plain": [
       "              business_id               review_id  \\\n",
       "0  -0iLH7iQNYtoURciDpJf6w  sxEFkJ89kyF-wMDUI2ZnWw   \n",
       "1  -0iLH7iQNYtoURciDpJf6w  n3lGqJHkjPc6SVDHOVbSNw   \n",
       "2  -0iLH7iQNYtoURciDpJf6w  3MYKaD-tDrUVhRgDh9G4dA   \n",
       "3  IU9_wVOGBKjfqTTpAXpKcQ  PJuWhEzKFz3ipwhOcWMMBA   \n",
       "4  IU9_wVOGBKjfqTTpAXpKcQ  T2k7VQB-TFkzkaEXRDfwYw   \n",
       "\n",
       "                                                text  rating  \\\n",
       "0  Based on the menu presented, one could write a...       5   \n",
       "1  I like this place but it does feel a little bi...       4   \n",
       "2  If you love French OnIon Soup, this is for you...       5   \n",
       "3  Came here with my daughter, son inlaw  his mom...       5   \n",
       "4  This tiny eatery along the Seine on the left b...       5   \n",
       "\n",
       "          time_created                 user_id  \\\n",
       "0  2023-12-29 23:14:16  CuqQtIpX7ZMViDuzRXxr9g   \n",
       "1  2024-01-03 09:01:14  7e7hA-2b6LJV_ywPYEUO1w   \n",
       "2  2023-12-14 13:59:59  DE6hz6gzrq67IYwH7Rh6Zg   \n",
       "3  2023-09-22 09:36:00  dgBw2bNmgCDM21n7vKET1w   \n",
       "4  2024-01-08 16:55:09  kmSmVVb_XOpYnxSq7qns8w   \n",
       "\n",
       "                                      corrected_text  \\\n",
       "0  Based on the menu presented, one could write a...   \n",
       "1  I like this place but it does feel a little bi...   \n",
       "2  If you love French OnIon Soup, this is for you...   \n",
       "3  Came here with my daughter, son in law, his mo...   \n",
       "4  This tiny eatery along the Seine on the left b...   \n",
       "\n",
       "                                     translated_text sentiment_vader  \\\n",
       "0  Based on the menu presented, one could write a...        positive   \n",
       "1  I like this place but it does feel a little bi...        positive   \n",
       "2  If you love French OnIon Soup, this is for you...        positive   \n",
       "3  Came here with my daughter, son inlaw  his mom...        positive   \n",
       "4  This tiny eatery along the Seine on the left b...        positive   \n",
       "\n",
       "  sentiment_tokenizer                                  preprocessed_text  \\\n",
       "0            positive  base menu present write glow review classiques...   \n",
       "1            positive  place feel little bit tourist trap people din ...   \n",
       "2            positive  love french onion soup try comptoir la gastron...   \n",
       "3            negative  daughter son inlaw mom gratin delicious table ...   \n",
       "4            positive  tiny eatery along seine leave bank best gratin...   \n",
       "\n",
       "                        Topic_Title  label  \n",
       "0             Food with Reservation      2  \n",
       "1  Recommended about Food & Service      2  \n",
       "2             Food with Reservation      2  \n",
       "3                       French Food      2  \n",
       "4             Restaurant for Dinner      2  "
      ]
     },
     "execution_count": 62,
     "metadata": {},
     "output_type": "execute_result"
    }
   ],
   "source": [
    "review_df.head()"
   ]
  },
  {
   "cell_type": "code",
   "execution_count": 58,
   "metadata": {},
   "outputs": [
    {
     "data": {
      "text/plain": [
       "(1220, 13)"
      ]
     },
     "execution_count": 58,
     "metadata": {},
     "output_type": "execute_result"
    }
   ],
   "source": [
    "review_df[review_df['label']==2].shape"
   ]
  },
  {
   "cell_type": "code",
   "execution_count": 54,
   "metadata": {},
   "outputs": [
    {
     "data": {
      "text/html": [
       "<div>\n",
       "<style scoped>\n",
       "    .dataframe tbody tr th:only-of-type {\n",
       "        vertical-align: middle;\n",
       "    }\n",
       "\n",
       "    .dataframe tbody tr th {\n",
       "        vertical-align: top;\n",
       "    }\n",
       "\n",
       "    .dataframe thead th {\n",
       "        text-align: right;\n",
       "    }\n",
       "</style>\n",
       "<table border=\"1\" class=\"dataframe\">\n",
       "  <thead>\n",
       "    <tr style=\"text-align: right;\">\n",
       "      <th></th>\n",
       "      <th>text</th>\n",
       "      <th>corrected_text</th>\n",
       "      <th>translated_text</th>\n",
       "    </tr>\n",
       "  </thead>\n",
       "  <tbody>\n",
       "    <tr>\n",
       "      <th>0</th>\n",
       "      <td>Based on the menu presented, one could write a...</td>\n",
       "      <td>Based on the menu presented, one could write a...</td>\n",
       "      <td>Based on the menu presented, one could write a...</td>\n",
       "    </tr>\n",
       "    <tr>\n",
       "      <th>1</th>\n",
       "      <td>I like this place but it does feel a little bi...</td>\n",
       "      <td>I like this place but it does feel a little bi...</td>\n",
       "      <td>I like this place but it does feel a little bi...</td>\n",
       "    </tr>\n",
       "    <tr>\n",
       "      <th>2</th>\n",
       "      <td>If you love French OnIon Soup, this is for you...</td>\n",
       "      <td>If you love French OnIon Soup, this is for you...</td>\n",
       "      <td>If you love French OnIon Soup, this is for you...</td>\n",
       "    </tr>\n",
       "    <tr>\n",
       "      <th>3</th>\n",
       "      <td>Came here with my daughter, son inlaw  his mom...</td>\n",
       "      <td>Came here with my daughter, son in law, his mo...</td>\n",
       "      <td>Came here with my daughter, son inlaw  his mom...</td>\n",
       "    </tr>\n",
       "    <tr>\n",
       "      <th>4</th>\n",
       "      <td>This tiny eatery along the Seine on the left b...</td>\n",
       "      <td>This tiny eatery along the Seine on the left b...</td>\n",
       "      <td>This tiny eatery along the Seine on the left b...</td>\n",
       "    </tr>\n",
       "    <tr>\n",
       "      <th>5</th>\n",
       "      <td>The food was AMAZING, I had the vegetarian veg...</td>\n",
       "      <td>The food was AMAZING, I had the vegetarian veg...</td>\n",
       "      <td>The food was AMAZING, I had the vegetarian veg...</td>\n",
       "    </tr>\n",
       "    <tr>\n",
       "      <th>6</th>\n",
       "      <td>I'm staying in the area and was sitting at a c...</td>\n",
       "      <td>I'm staying in the area and was sitting at a c...</td>\n",
       "      <td>I'm staying in the area and was sitting at a c...</td>\n",
       "    </tr>\n",
       "    <tr>\n",
       "      <th>7</th>\n",
       "      <td>I can't help but share my incredible experienc...</td>\n",
       "      <td>I can't help but share my incredible experienc...</td>\n",
       "      <td>I can't help but share my incredible experienc...</td>\n",
       "    </tr>\n",
       "    <tr>\n",
       "      <th>8</th>\n",
       "      <td>This is an amazing bar style restaurant. The s...</td>\n",
       "      <td>This is an amazing bar style restaurant. The s...</td>\n",
       "      <td>This is an amazing bar style restaurant. The s...</td>\n",
       "    </tr>\n",
       "    <tr>\n",
       "      <th>9</th>\n",
       "      <td>I understand that everyone wants to see food, ...</td>\n",
       "      <td>I understand that everyone wants to see food, ...</td>\n",
       "      <td>I understand that everyone wants to see food, ...</td>\n",
       "    </tr>\n",
       "  </tbody>\n",
       "</table>\n",
       "</div>"
      ],
      "text/plain": [
       "                                                text  \\\n",
       "0  Based on the menu presented, one could write a...   \n",
       "1  I like this place but it does feel a little bi...   \n",
       "2  If you love French OnIon Soup, this is for you...   \n",
       "3  Came here with my daughter, son inlaw  his mom...   \n",
       "4  This tiny eatery along the Seine on the left b...   \n",
       "5  The food was AMAZING, I had the vegetarian veg...   \n",
       "6  I'm staying in the area and was sitting at a c...   \n",
       "7  I can't help but share my incredible experienc...   \n",
       "8  This is an amazing bar style restaurant. The s...   \n",
       "9  I understand that everyone wants to see food, ...   \n",
       "\n",
       "                                      corrected_text  \\\n",
       "0  Based on the menu presented, one could write a...   \n",
       "1  I like this place but it does feel a little bi...   \n",
       "2  If you love French OnIon Soup, this is for you...   \n",
       "3  Came here with my daughter, son in law, his mo...   \n",
       "4  This tiny eatery along the Seine on the left b...   \n",
       "5  The food was AMAZING, I had the vegetarian veg...   \n",
       "6  I'm staying in the area and was sitting at a c...   \n",
       "7  I can't help but share my incredible experienc...   \n",
       "8  This is an amazing bar style restaurant. The s...   \n",
       "9  I understand that everyone wants to see food, ...   \n",
       "\n",
       "                                     translated_text  \n",
       "0  Based on the menu presented, one could write a...  \n",
       "1  I like this place but it does feel a little bi...  \n",
       "2  If you love French OnIon Soup, this is for you...  \n",
       "3  Came here with my daughter, son inlaw  his mom...  \n",
       "4  This tiny eatery along the Seine on the left b...  \n",
       "5  The food was AMAZING, I had the vegetarian veg...  \n",
       "6  I'm staying in the area and was sitting at a c...  \n",
       "7  I can't help but share my incredible experienc...  \n",
       "8  This is an amazing bar style restaurant. The s...  \n",
       "9  I understand that everyone wants to see food, ...  "
      ]
     },
     "execution_count": 54,
     "metadata": {},
     "output_type": "execute_result"
    }
   ],
   "source": []
  }
 ],
 "metadata": {
  "kernelspec": {
   "display_name": "Python 3",
   "language": "python",
   "name": "python3"
  },
  "language_info": {
   "codemirror_mode": {
    "name": "ipython",
    "version": 3
   },
   "file_extension": ".py",
   "mimetype": "text/x-python",
   "name": "python",
   "nbconvert_exporter": "python",
   "pygments_lexer": "ipython3",
   "version": "3.11.6"
  }
 },
 "nbformat": 4,
 "nbformat_minor": 2
}
