{
 "cells": [
  {
   "cell_type": "markdown",
   "metadata": {},
   "source": [
    "## GPT2"
   ]
  },
  {
   "cell_type": "code",
   "execution_count": 26,
   "metadata": {},
   "outputs": [],
   "source": [
    "import pandas as pd\n",
    "from transformers import pipeline, set_seed\n",
    "\n",
    "# Configuration pour assurer la reproductibilité lors de la génération de texte\n",
    "set_seed(123)\n",
    "\n",
    "data = {\n",
    "    'business_id': ['123', '123', '456', '456', '456'],\n",
    "    'text': [\n",
    "        \"Great service but the food was bland.\",\n",
    "        \"Loved the ambiance and the dessert, but the main course was too salty.\",\n",
    "        \"The waiter was rude.\",\n",
    "        \"The steak was fantastic, but the room was too noisy.\",\n",
    "        \"Amazing cocktails and friendly staff, but the price is too high.\"\n",
    "    ]\n",
    "}\n",
    "\n",
    "df = pd.DataFrame(data)\n"
   ]
  },
  {
   "cell_type": "code",
   "execution_count": 39,
   "metadata": {},
   "outputs": [
    {
     "name": "stderr",
     "output_type": "stream",
     "text": [
      "Setting `pad_token_id` to `eos_token_id`:50256 for open-end generation.\n",
      "Setting `pad_token_id` to `eos_token_id`:50256 for open-end generation.\n"
     ]
    },
    {
     "name": "stdout",
     "output_type": "stream",
     "text": [
      "Business ID: 123\n",
      "Insights:\n",
      "Here are some customer reviews on a restaurant deduct the restaurant's asset's.\n",
      "\n",
      "Great service but the food was bland. Loved the ambiance and the dessert, but the main course was too salty. The only thing that really helped the mood was the customer service and they would also take your order in person.\n",
      "\n",
      "I was trying the pizza for my birthday in the morning. My daughter couldn't tell me in any way that a 5 year old could make one that has no idea what it is. It's like when you put on your jacket and see what it is. A 9 year old kid didn't even know there was pizza in his hand at lunch. The waitress came back and said there was a 4 year old who was not there. It was one of the most frustrating experiences of my life.\n",
      "\n",
      "The food was also terrible, most dishes included. I've been here for about ten years, but I had been here for six years and I wouldn't say what I enjoyed better than pizza. It was just flat out awful and the food was not good. It was very bad tasting too and was served from a small bag that would take away from the taste. I'll never come back from this place.\n",
      "\n",
      "Business ID: 456\n",
      "Insights:\n",
      "Here are some customer reviews on a restaurant deduct the restaurant's asset's.\n",
      "\n",
      "The waiter was rude. The steak was fantastic, but the room was too noisy. Amazing cocktails and friendly staff, but the price is too high.\n",
      "\n",
      "I came to a local diner and they offered a free lunch. It was a bit like this. The food in the diner was delicious too. The menu was so fresh and varied and not to dissimilar to a typical restaurant. I ordered the \"Chicken Bolognese\" ($2), which was definitely a good thing, but I don't think I got that much for my dollar. The egg rolls were good too.\n",
      "\n",
      "I'll always be an eatery fan of KFC and can't wait to try it again. I found it because the service on an almost empty lot felt as though the waitress was always there. The food was good as well. I'm not a huge KFC fan that I had to wait in between tables waiting in a bar and eating. However, I am happy to say that I enjoyed a good portion of the chicken burrito order, which I was told was probably $2 for the portion with a \"freebie\" that I ordered. I also\n",
      "\n"
     ]
    }
   ],
   "source": [
    "# Initialiser le modèle GPT-2 \n",
    "generator = pipeline('text-generation', model='gpt2')\n",
    "\n",
    "def generate_insights(reviews):\n",
    "    combined_reviews = \" \".join(reviews)\n",
    "    prompt = (f\"Here are some customer reviews on a restaurant deduct the restaurant's asset's.\\n\\n{combined_reviews}\")\n",
    "    \n",
    "    summary = generator(prompt,max_length=250, num_return_sequences=1)\n",
    "    return summary[0]['generated_text']\n",
    "\n",
    "# Grouper les avis par 'business_id'\n",
    "grouped_reviews = df.groupby('business_id')['text'].apply(list)\n",
    "\n",
    "# Générer des insights pour chaque groupe d'avis\n",
    "insights_by_business = grouped_reviews.apply(generate_insights)\n",
    "\n",
    "# Afficher les insights\n",
    "for business_id, insights in insights_by_business.items():\n",
    "    print(f\"Business ID: {business_id}\\nInsights:\\n{insights}\\n\")\n"
   ]
  },
  {
   "cell_type": "code",
   "execution_count": 40,
   "metadata": {},
   "outputs": [
    {
     "name": "stderr",
     "output_type": "stream",
     "text": [
      "Setting `pad_token_id` to `eos_token_id`:50256 for open-end generation.\n",
      "Setting `pad_token_id` to `eos_token_id`:50256 for open-end generation.\n"
     ]
    },
    {
     "name": "stdout",
     "output_type": "stream",
     "text": [
      "Business ID: 123\n",
      "Insights:\n",
      "Based on the following customer reviews, identify the key strengths and weaknesses of the restaurant:\n",
      "\n",
      "Great service but the food was bland. Loved the ambiance and the dessert, but the main course was too salty.\n",
      "\n",
      "Strengths:\n",
      "- Weaknesses:\n",
      "\n",
      "- We don't like to go out to our own place and then get our hands dirty on our food until we can't enjoy ourselves again.\n",
      "\n",
      "- No side-tasting\n",
      "\n",
      "- Slow serving method\n",
      "\n",
      "Frequent customer feedback and suggestions to improve the menu for all of the customers.\n",
      "\n",
      "All reviews are written in Korean language and are considered to be representative of the Korean-language company's work.\n",
      "\n",
      "Read More\n",
      "\n",
      "Business ID: 456\n",
      "Insights:\n",
      "Based on the following customer reviews, identify the key strengths and weaknesses of the restaurant:\n",
      "\n",
      "The waiter was rude. The steak was fantastic, but the room was too noisy. Amazing cocktails and friendly staff, but the price is too high.\n",
      "\n",
      "Strengths:\n",
      "- Weaknesses:\n",
      "\n",
      "- The staff of C-I-N-O are really nice - a little like the waitstaff in Tijuana at least. However, when there was a very short service, you should still ask where you came from. Sometimes this kind of rude service seems to kill you.\n",
      "\n",
      "- The service was well executed. We were on the table with four people, and I got a drink, which I felt was appropriate for the size of the restaurant, so we ordered a glass of the wine, and then waited. I also enjoyed the wine in the wine glass. The waiter was a little rude so we got an email from him telling us that we were told to look for a reservation, but that we shouldn't take our order with him. I'm a big fan of the staff in small businesses and this was the first time I had come here.\n",
      "\n",
      "- Food wasn't great. The food was pretty good,\n",
      "\n"
     ]
    }
   ],
   "source": [
    "def generate_insights(reviews):\n",
    "    combined_reviews = \" \".join(reviews[:5])  # Limiter le nombre d'avis\n",
    "    prompt = (f\"Based on the following customer reviews, identify the key strengths and weaknesses of the restaurant:\\n\\n{combined_reviews}\\n\\nStrengths:\\n- Weaknesses:\")\n",
    "    \n",
    "    summary = generator(prompt, max_length=250, num_return_sequences=1)\n",
    "    return summary[0]['generated_text']\n",
    "\n",
    "# Grouper les avis par 'business_id'\n",
    "grouped_reviews = df.groupby('business_id')['text'].apply(list)\n",
    "\n",
    "# Générer des insights pour chaque groupe d'avis\n",
    "insights_by_business = grouped_reviews.apply(generate_insights)\n",
    "\n",
    "# Afficher les insights\n",
    "for business_id, insights in insights_by_business.items():\n",
    "    print(f\"Business ID: {business_id}\\nInsights:\\n{insights}\\n\")\n"
   ]
  },
  {
   "cell_type": "code",
   "execution_count": 37,
   "metadata": {},
   "outputs": [
    {
     "name": "stderr",
     "output_type": "stream",
     "text": [
      "tokenizer_config.json: 100%|██████████| 26.0/26.0 [00:00<00:00, 13.0kB/s]\n",
      "c:\\Users\\sraps\\AppData\\Local\\Programs\\Python\\Python311\\Lib\\site-packages\\huggingface_hub\\file_download.py:149: UserWarning: `huggingface_hub` cache-system uses symlinks by default to efficiently store duplicated files but your machine does not support them in C:\\Users\\sraps\\.cache\\huggingface\\hub\\models--microsoft--DialoGPT-large. Caching files will still work but in a degraded version that might require more space on your disk. This warning can be disabled by setting the `HF_HUB_DISABLE_SYMLINKS_WARNING` environment variable. For more details, see https://huggingface.co/docs/huggingface_hub/how-to-cache#limitations.\n",
      "To support symlinks on Windows, you either need to activate Developer Mode or to run Python as an administrator. In order to see activate developer mode, see this article: https://docs.microsoft.com/en-us/windows/apps/get-started/enable-your-device-for-development\n",
      "  warnings.warn(message)\n",
      "config.json: 100%|██████████| 642/642 [00:00<?, ?B/s] \n",
      "vocab.json: 100%|██████████| 1.04M/1.04M [00:00<00:00, 2.71MB/s]\n",
      "merges.txt: 100%|██████████| 456k/456k [00:00<00:00, 5.20MB/s]\n",
      "pytorch_model.bin: 100%|██████████| 1.75G/1.75G [01:37<00:00, 17.9MB/s]\n",
      "generation_config.json: 100%|██████████| 124/124 [00:00<00:00, 62.0kB/s]\n"
     ]
    }
   ],
   "source": [
    "from transformers import AutoModelForCausalLM, AutoTokenizer, pipeline\n",
    "\n",
    "# Charger le tokenizer et le modèle\n",
    "tokenizer = AutoTokenizer.from_pretrained(\"microsoft/DialoGPT-large\")\n",
    "model = AutoModelForCausalLM.from_pretrained(\"microsoft/DialoGPT-large\")\n",
    "\n",
    "# Initialiser la pipeline de génération de texte\n",
    "dialogue_generator = pipeline('text-generation', model=model, tokenizer=tokenizer)\n",
    "\n",
    "def generate_dialogue_insights(reviews):\n",
    "    combined_reviews = \" \".join(reviews[:5])  # Limiter à 5 avis pour une analyse concise\n",
    "    prompt = (\n",
    "        f\"Customer Reviews: {combined_reviews}\\n\"\n",
    "        f\"AI: Based on these reviews, the key weaknesses of the restaurant are :\"\n",
    "    )\n",
    "\n",
    "    # Générer une réponse basée sur les avis\n",
    "    generated_response = dialogue_generator(prompt, max_length=200, num_return_sequences=1)\n",
    "    return generated_response[0]['generated_text']\n"
   ]
  },
  {
   "cell_type": "code",
   "execution_count": 38,
   "metadata": {},
   "outputs": [
    {
     "name": "stderr",
     "output_type": "stream",
     "text": [
      "Setting `pad_token_id` to `eos_token_id`:50256 for open-end generation.\n",
      "Setting `pad_token_id` to `eos_token_id`:50256 for open-end generation.\n"
     ]
    },
    {
     "name": "stdout",
     "output_type": "stream",
     "text": [
      "Business ID: 123\n",
      "Insights:\n",
      "Customer Reviews: Great service but the food was bland. Loved the ambiance and the dessert, but the main course was too salty.\n",
      "AI: Based on these reviews, the key weaknesses of the restaurant are : 1. Saltiness 2. Saltiness 3. Saltiness 4. Saltiness 5. Saltiness 6. Saltiness 7. Saltiness 8. Saltiness 9. Saltiness\n",
      "\n",
      "Business ID: 456\n",
      "Insights:\n",
      "Customer Reviews: The waiter was rude. The steak was fantastic, but the room was too noisy. Amazing cocktails and friendly staff, but the price is too high.\n",
      "AI: Based on these reviews, the key weaknesses of the restaurant are : 1. The food is not great 2. The service is not great\n",
      "\n"
     ]
    }
   ],
   "source": [
    "\n",
    "# Grouper les avis par 'business_id' et générer des insights\n",
    "grouped_reviews = df.groupby('business_id')['text'].apply(list)\n",
    "insights_by_business = grouped_reviews.apply(generate_dialogue_insights)\n",
    "\n",
    "# Affichage des insights\n",
    "for business_id, insights in insights_by_business.items():\n",
    "    print(f\"Business ID: {business_id}\\nInsights:\\n{insights}\\n\")\n"
   ]
  },
  {
   "cell_type": "code",
   "execution_count": null,
   "metadata": {},
   "outputs": [],
   "source": []
  }
 ],
 "metadata": {
  "kernelspec": {
   "display_name": "Python 3",
   "language": "python",
   "name": "python3"
  },
  "language_info": {
   "codemirror_mode": {
    "name": "ipython",
    "version": 3
   },
   "file_extension": ".py",
   "mimetype": "text/x-python",
   "name": "python",
   "nbconvert_exporter": "python",
   "pygments_lexer": "ipython3",
   "version": "3.11.6"
  }
 },
 "nbformat": 4,
 "nbformat_minor": 2
}
